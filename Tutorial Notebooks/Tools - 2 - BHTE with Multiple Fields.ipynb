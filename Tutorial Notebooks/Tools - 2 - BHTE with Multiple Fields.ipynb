{
 "cells": [
  {
   "cell_type": "markdown",
   "metadata": {},
   "source": [
    "---\n",
    "GPU-accelerated Bio-Heat Transfer Equation (BHTE)\n",
    "---\n",
    "\n",
    "## Description\n",
    "The code in this notebook implements a Finite-Difference Time-Difference (FDTD) of the partial differential equation (PDE) of the BioHeat Thermal Equation (BHTE) using one of the following GPU backends: CUDA, OpenCL, or Metal\n",
    "\n",
    "The BHTE is given by\n",
    "$$\n",
    "\\rho_t c_t \\frac{\\partial \\theta_m}{\\partial t} = \\nabla \\cdot \\left(  k_t \\nabla \\theta_m \\right ) - \\omega_b c_b \\left(  \\theta_m - \\theta_a \\right ) + Q_m\n",
    "$$\n",
    "\n",
    " where $\\theta_m$ is the instantaneous temperature at point $m$. $\\rho_t$, $c_t$ and $k_t$ are, respectively, the density, specific heat capacity and thermal conductivity of the tissue. $\\omega_b$ and $c_b$ are, respectively, the perfusion rate and heat capacity of blood. $\\theta_a$ is the body temperature. The term $Q_m$ is the absorbed energy rate due to the absorption of ultrasound by the tissue.\n",
    "\n",
    "The equation is solved with forward-step solution  $\\theta_m(T+t_0)$. This means the GPU kernel is called thousands of times as the thermal map $\\theta_m$ is updated in small temporal $\\delta t$ steps.\n",
    "\n",
    "This notebook tests the BHTE calculation for multiple pressure fields.\n"
   ]
  },
  {
   "cell_type": "markdown",
   "metadata": {},
   "source": [
    "## Imports"
   ]
  },
  {
   "cell_type": "code",
   "execution_count": 1,
   "metadata": {},
   "outputs": [],
   "source": [
    "from matplotlib import pyplot as plt\n",
    "import numpy as np\n",
    "from BabelViscoFDTD.tools.RayleighAndBHTE import BHTEMultiplePressureFields,InitRayleighAndBHTE"
   ]
  },
  {
   "cell_type": "markdown",
   "metadata": {},
   "source": [
    "## Parameters"
   ]
  },
  {
   "cell_type": "code",
   "execution_count": 2,
   "metadata": {},
   "outputs": [],
   "source": [
    "# Device Specific\n",
    "gpu_device = 'M1'\n",
    "# gpu_backend = 'CUDA'\n",
    "# gpu_backend = 'OpenCL'\n",
    "# gpu_backend = 'Metal'\n",
    "gpu_backend = 'MLX'\n",
    "\n",
    "# Simulation\n",
    "BaseIsppa = 5               # W/cm2\n",
    "BaselineTemperature = 37.0  \n",
    "dt = 0.01                   # Time step\n",
    "DutyCycle = 0.1\n",
    "DurationUS = 120            # Time that ultrasound is on\n",
    "DurationOff = 120           # Time that ultrasound is off\n",
    "Repetitions = 1             # Number of cycles of DurationUS + DurationOff\n",
    "Frequency = 400e3           # Ultrasound frequency\n",
    "PPW = 6                     # Points Per Wavelength"
   ]
  },
  {
   "cell_type": "markdown",
   "metadata": {},
   "source": [
    "## Support Functions"
   ]
  },
  {
   "cell_type": "code",
   "execution_count": 3,
   "metadata": {},
   "outputs": [],
   "source": [
    "def AnalyzeLosses(pAmp,MaterialMap,LocIJK,Input,MaterialList,BrainID,pAmpWater,Isppa,SaveDict,xf,yf,zf):\n",
    "    pAmpBrain=pAmp.copy()\n",
    "    if 'MaterialMapCT' in Input:\n",
    "        pAmpBrain[MaterialMap!=2]=0.0\n",
    "    else:\n",
    "        pAmpBrain[MaterialMap<4]=0.0\n",
    "\n",
    "    cz=LocIJK[2]\n",
    "    \n",
    "    PlanAtMaximum=pAmpBrain[:,:,cz]\n",
    "    AcousticEnergy=(PlanAtMaximum**2/2/MaterialList['Density'][BrainID]/ MaterialList['SoS'][BrainID]*((xf[1]-xf[0])**2)).sum()\n",
    "    print('Acoustic Energy at maximum plane',AcousticEnergy)\n",
    "    \n",
    "    \n",
    "    MateriaMapTissue=np.ascontiguousarray(np.flip(Input['MaterialMap'],axis=2))\n",
    "    xfr=Input['x_vec']\n",
    "    yfr=Input['y_vec']\n",
    "    zfr=Input['z_vec']\n",
    "    \n",
    "    \n",
    "    PlanAtMaximumWater=pAmpWater[:,:,2] \n",
    "    AcousticEnergyWater=(PlanAtMaximumWater**2/2/MaterialList['Density'][0]/ MaterialList['SoS'][0]*((xf[1]-xf[0])**2)).sum()\n",
    "    print('Water Acoustic Energy entering',AcousticEnergyWater)\n",
    "    if 'MaterialMapCT' in Input:\n",
    "        pAmpWater[MaterialMap!=2]=0.0\n",
    "    else:\n",
    "        pAmpWater[MaterialMap!=4]=0.0\n",
    "    cxw,cyw,czw=np.where(pAmpWater==pAmpWater.max())\n",
    "    cxw=cxw[0]\n",
    "    cyw=cyw[0]\n",
    "    czw=czw[0]\n",
    "    print('Location Max Pessure Water',cxw,cyw,czw,'\\n',\n",
    "            xf[cxw],yf[cyw],zf[czw],pAmpWater.max()/1e6)\n",
    "    \n",
    "    pAmpTissue=np.ascontiguousarray(np.flip(Input['p_amp'],axis=2))\n",
    "    if 'MaterialMapCT' in Input:\n",
    "        pAmpTissue[MaterialMap!=2]=0.0\n",
    "    else:\n",
    "        pAmpTissue[MaterialMap!=4]=0.0\n",
    "\n",
    "    cxr,cyr,czr=np.where(pAmpTissue==pAmpTissue.max())\n",
    "    cxr=cxr[0]\n",
    "    cyr=cyr[0]\n",
    "    czr=czr[0]\n",
    "    print('Location Max Pressure Tissue',cxr,cyr,czr,'\\n',\n",
    "            xfr[cxr],yfr[cyr],zfr[czr],pAmpTissue.max()/1e6)\n",
    "    \n",
    "\n",
    "    PlanAtMaximumWaterMaxLoc=pAmpWater[:,:,czw]\n",
    "    AcousticEnergyWaterMaxLoc=(PlanAtMaximumWaterMaxLoc**2/2/MaterialList['Density'][0]/ MaterialList['SoS'][0]*((xf[1]-xf[0])**2)).sum()\n",
    "    print('Water Acoustic Energy at maximum plane water max loc',AcousticEnergyWaterMaxLoc) #must be very close to AcousticEnergyWater\n",
    "    \n",
    "    PlanAtMaximumWaterMaxLoc=pAmpWater[:,:,czr]\n",
    "    AcousticEnergyWaterMaxLoc=(PlanAtMaximumWaterMaxLoc**2/2/MaterialList['Density'][0]/ MaterialList['SoS'][0]*((xf[1]-xf[0])**2)).sum()\n",
    "    print('Water Acoustic Energy at maximum plane tissue max loc',AcousticEnergyWaterMaxLoc) #must be very close to AcousticEnergyWater\n",
    "    \n",
    "    PlanAtMaximumTissue=pAmpTissue[:,:,czr] \n",
    "    AcousticEnergyTissue=(PlanAtMaximumTissue**2/2/MaterialList['Density'][BrainID]/ MaterialList['SoS'][BrainID]*((xf[1]-xf[0])**2)).sum()\n",
    "    print('Tissue Acoustic Energy at maximum plane tissue',AcousticEnergyTissue)\n",
    "    \n",
    "    RatioLosses=AcousticEnergyTissue/AcousticEnergyWaterMaxLoc\n",
    "    print('Total losses ratio and in dB',RatioLosses,np.log10(RatioLosses)*10)\n",
    "        \n",
    "    PressureAdjust=np.sqrt(Isppa*1e4*2.0*SaveDict['MaterialList']['SoS'][BrainID]*SaveDict['MaterialList']['Density'][BrainID])\n",
    "    PressureRatio=PressureAdjust/pAmpTissue.max()\n",
    "    return PressureRatio,RatioLosses\n",
    "\n",
    "def getBHTECoefficient( kappa,rho,c_t,h,t_int,dt=0.1):\n",
    "    \"\"\" calculates the Bioheat Transfer Equation coefficient required (time step/density*conductivity*voxelsize\"\"\"\n",
    "    # get the bioheat coefficients for a tissue type -- independent of surrounding tissue types\n",
    "    # dt = t_int/nt\n",
    "    # h - voxel resolution - default 1e-3\n",
    "\n",
    "    bhc_coeff = kappa * dt / (rho * c_t * h**2)\n",
    "    if bhc_coeff >= (1 / 6):\n",
    "        best_nt = np.ceil(6 * kappa * t_int) / (rho * c_t *h**2)\n",
    "        print(\"The conditions %f,%f,%f does not meet the C-F-L condition and may not be stable. Use nt of %f or greater.\" %\\\n",
    "            (dt,t_int,bhc_coeff,best_nt))\n",
    "    return bhc_coeff\n",
    "\n",
    "def getPerfusionCoefficient( w_b,c_t,blood_rho,blood_ct,dt=0.1):\n",
    "    \"\"\"Calculates the perfusion coefficient based on the simulation parameters and time step \"\"\"\n",
    "    # get the perfusion coeff for a speicfic tissue type and time period  -- independent of surrounding tissue types\n",
    "    # wb is in ml/min/kg, needs to be converted to m3/s/kg (1min/60 * 1e-6 m3/ml)\n",
    "\n",
    "    coeff = w_b/60*1.0e-6* blood_rho * blood_ct * dt / c_t  \n",
    "\n",
    "    return coeff\n",
    "\n",
    "def getQCoeff(rho,SoS,alpha,c_t,Absorption,h,dt):\n",
    "    coeff=dt/(2*rho**2*SoS*h*c_t)*Absorption*(1-np.exp(-2*h*alpha))\n",
    "    return coeff\n",
    "\n",
    "def factors_gpu(x):\n",
    "    res=[]\n",
    "    for i in range(2, x + 1):\n",
    "        if x % i == 0:\n",
    "            res.append(i)\n",
    "    res=np.array(res)\n",
    "    return res\n",
    "\n",
    "def FitSpeedCorticalShear(frequency):\n",
    "    #from Phys Med Biol. 2017 Aug 7; 62(17): 6938–6962. doi: 10.1088/1361-6560/aa7ccc \n",
    "    FRef=np.array([270e3,836e3])\n",
    "    Cs270=np.array([1577.0,1498.0,1313.0]).mean()\n",
    "    Cs836=np.array([1758.0,1674.0,1545.0]).mean()\n",
    "    CsRef=np.array([Cs270,Cs836])\n",
    "    p=np.polyfit(FRef, CsRef, 1)\n",
    "    return(np.round(np.poly1d(p)(frequency)))\n",
    "\n",
    "def FitSpeedTrabecularShear(frequency):\n",
    "    #from Phys Med Biol. 2017 Aug 7; 62(17): 6938–6962. doi: 10.1088/1361-6560/aa7ccc \n",
    "    FRef=np.array([270e3,836e3])\n",
    "    Cs270=np.array([1227.0,1365.0,1200.0]).mean()\n",
    "    Cs836=np.array([1574.0,1252.0,1327.0]).mean()\n",
    "    CsRef=np.array([Cs270,Cs836])\n",
    "    p=np.polyfit(FRef, CsRef, 1)\n",
    "    return(np.round(np.poly1d(p)(frequency)))\n",
    "\n",
    "def FitAttBoneShear(frequency,reductionFactor=1.0):\n",
    "    #from Phys Med Biol. 2017 Aug 7; 62(17): 6938–6962. doi: 10.1088/1361-6560/aa7ccc \n",
    "    PichardoData=(57.0/.27 +373/0.836)/2\n",
    "    return np.round(PichardoData*(frequency/1e6)*reductionFactor) \n",
    "\n",
    "def FitSpeedCorticalLong(frequency):\n",
    "    #from Phys Med Biol. 2011 Jan 7; 56(1): 219–250. doi :10.1088/0031-9155/56/1/014 \n",
    "    FRef=np.array([270e3,836e3])\n",
    "    ClRef=np.array([2448.0,2516])\n",
    "    p=np.polyfit(FRef, ClRef, 1)\n",
    "    return(np.round(np.poly1d(p)(frequency)))\n",
    "\n",
    "def FitSpeedTrabecularLong(frequency):\n",
    "    #from Phys Med Biol. 2011 Jan 7; 56(1): 219–250. doi :10.1088/0031-9155/56/1/014\n",
    "    FRef=np.array([270e3,836e3])\n",
    "    ClRef=np.array([2140.0,2300])\n",
    "    p=np.polyfit(FRef, ClRef, 1)\n",
    "    return(np.round(np.poly1d(p)(frequency)))\n",
    "\n",
    "def FitAttCorticalLong_Goss(frequency,reductionFactor=1):\n",
    "    #from J. Acoust. Soc. Am., Vol. 64, No. 2,  doi: 10.1121/1.382016\n",
    "    JasaAtt1MHz=(2.15+1.67)/2*100*reductionFactor\n",
    "    return np.round(JasaAtt1MHz*(frequency/1e6)) \n",
    "\n",
    "def FitAttTrabecularLong_Goss(frequency,reductionFactor=1):\n",
    "    #from J. Acoust. Soc. Am., Vol. 64, No. 2,  doi: 10.1121/1.382016\n",
    "    JasaAtt1MHz=1.5*100*reductionFactor\n",
    "    return np.round(JasaAtt1MHz*(frequency/1e6)) \n",
    "\n",
    "def FitAttCorticalLong_Multiple(frequency,bcoeff=1,reductionFactor=0.8):\n",
    "    # fitting from data obtained from\n",
    "    #J. Acoust. Soc. Am., Vol. 64, No. 2,  doi: 10.1121/1.382016\n",
    "    # Phys Med Biol. 2011 Jan 7; 56(1): 219–250. doi :10.1088/0031-9155/56/1/014\n",
    "    # IEEE transactions on ultrasonics, ferroelectrics, and frequency control 68, no. 5 (2020): 1532-1545. doi: 10.1109/TUFFC.2020.3039743\n",
    "    \n",
    "    return np.round(203.25090263*((frequency/1e6)**bcoeff)*reductionFactor)\n",
    "\n",
    "def FitAttTrabecularLong_Multiple(frequency,bcoeff=1,reductionFactor=0.8):\n",
    "    #reduction factor \n",
    "    # fitting from data obtained from\n",
    "    #J. Acoust. Soc. Am., Vol. 64, No. 2,  doi: 10.1121/1.382016\n",
    "    # Phys Med Biol. 2011 Jan 7; 56(1): 219–250. doi :10.1088/0031-9155/56/1/014\n",
    "    # IEEE transactions on ultrasonics, ferroelectrics, and frequency control 68, no. 5 (2020): 1532-1545. doi: 10.1109/TUFFC.2020.3039743\n",
    "    return np.round(202.76362433*((frequency/1e6)**bcoeff)*reductionFactor)\n",
    "\n",
    "def GetMaterialList(Frequency,BaselineTemperature):\n",
    "    MatFreq={}\n",
    "    Material={}\n",
    "    #Density (kg/m3), LongSoS (m/s), ShearSoS (m/s), Long Att (Np/m), Shear Att (Np/m)\n",
    "    Material['Water']=     np.array([1000.0, 1500.0, 0.0   ,   0.0,                   0.0] )\n",
    "    Material['Cortical']=  np.array([1896.5, FitSpeedCorticalLong(Frequency), \n",
    "                                                FitSpeedCorticalShear(Frequency),  \n",
    "                                                FitAttCorticalLong_Multiple(Frequency)  , \n",
    "                                                FitAttBoneShear(Frequency)])\n",
    "    Material['Trabecular']=np.array([1738.0, FitSpeedTrabecularLong(Frequency),\n",
    "                                                FitSpeedTrabecularShear(Frequency),\n",
    "                                                FitAttTrabecularLong_Multiple(Frequency) , \n",
    "                                                FitAttBoneShear(Frequency)])\n",
    "    Material['Skin']=      np.array([1116.0, 1537.0, 0.0   ,  2.3*Frequency/500e3 , 0])\n",
    "    Material['Brain']=     np.array([1041.0, 1562.0, 0.0   ,  3.45*Frequency/500e3 , 0])\n",
    "\n",
    "    MatFreq[Frequency]=Material\n",
    "\n",
    "    Input = {}\n",
    "    Materials = []\n",
    "    for k in ['Water','Skin','Cortical','Trabecular','Brain']:\n",
    "        SelM = MatFreq[Frequency][k]\n",
    "        Materials.append([SelM[0], # Density\n",
    "                        SelM[1], # Longitudinal SOS\n",
    "                        SelM[2], # Shear SOS\n",
    "                        SelM[3], # Long Attenuation\n",
    "                        SelM[4]]) # Shear Attenuation\n",
    "    Materials = np.array(Materials)\n",
    "    MaterialList = {}\n",
    "    MaterialList['Density'] = Materials[:,0]\n",
    "    MaterialList['SoS'] = Materials[:,1]\n",
    "    MaterialList['Attenuation'] = Materials[:,3]\n",
    "\n",
    "    #Water, Skin, Cortical, Trabecular, Brain\n",
    "\n",
    "    #https://itis.swiss/virtual-population/tissue-properties/database/heat-capacity/\n",
    "    MaterialList['SpecificHeat']=[4178,3391,1313,2274,3630] #(J/kg/°C)\n",
    "    #https://itis.swiss/virtual-population/tissue-properties/database/thermal-conductivity/\n",
    "    MaterialList['Conductivity']=[0.6,0.37,0.32,0.31,0.51] # (W/m/°C)\n",
    "    #https://itis.swiss/virtual-population/tissue-properties/database/heat-transfer-rate/\n",
    "    MaterialList['Perfusion']=np.array([0,106,10,30,559])\n",
    "\n",
    "    MaterialList['Absorption']=np.array([0,0.85,0.16,0.15,0.85])\n",
    "\n",
    "    MaterialList['InitTemperature']=[BaselineTemperature,BaselineTemperature,\n",
    "                                        BaselineTemperature,BaselineTemperature,BaselineTemperature]\n",
    "    \n",
    "    return MaterialList"
   ]
  },
  {
   "cell_type": "markdown",
   "metadata": {},
   "source": [
    "## Initialize GPU Backend"
   ]
  },
  {
   "cell_type": "code",
   "execution_count": 4,
   "metadata": {},
   "outputs": [
    {
     "name": "stdout",
     "output_type": "stream",
     "text": [
      "Selecting device:  Device(gpu, 0)\n"
     ]
    }
   ],
   "source": [
    "InitRayleighAndBHTE(gpu_device,gpu_backend)"
   ]
  },
  {
   "cell_type": "markdown",
   "metadata": {},
   "source": [
    "## Simulation Domain Setup"
   ]
  },
  {
   "cell_type": "code",
   "execution_count": 5,
   "metadata": {},
   "outputs": [
    {
     "name": "stdout",
     "output_type": "stream",
     "text": [
      "114 114 193\n"
     ]
    },
    {
     "data": {
      "image/png": "[encoded data removed]",
      "text/plain": [
       "<Figure size 640x480 with 2 Axes>"
      ]
     },
     "metadata": {},
     "output_type": "display_data"
    }
   ],
   "source": [
    "# Domain properties\n",
    "MediumSOS = 1500 # m/s - water\n",
    "MediumDensity = 1000 # kg/m3\n",
    "ShortestWavelength = MediumSOS / Frequency\n",
    "SpatialStep = ShortestWavelength / PPW\n",
    "\n",
    "#Limits of domain, in mm\n",
    "xfmin=-3.5e-2\n",
    "xfmax=3.5e-2\n",
    "yfmin=-3.5e-2\n",
    "yfmax=3.5e-2\n",
    "zfmin=0.\n",
    "zfmax=12e-2\n",
    "\n",
    "# x,y,z points\n",
    "xfield = np.linspace(xfmin,xfmax,int(np.ceil((xfmax-xfmin)/SpatialStep)+1))\n",
    "yfield = np.linspace(yfmin,yfmax,int(np.ceil((yfmax-yfmin)/SpatialStep)+1))\n",
    "zfield = np.linspace(zfmin,zfmax,int(np.ceil((zfmax-zfmin)/SpatialStep)+1))\n",
    "\n",
    "# Number of points in each axis\n",
    "nxf=len(xfield) \n",
    "nyf=len(yfield)\n",
    "nzf=len(zfield)\n",
    "print(nxf,nyf,nzf)\n",
    "\n",
    "# Grid formation\n",
    "xp,yp,zp=np.meshgrid(xfield,yfield,zfield,indexing='ij')\n",
    "\n",
    "# Generate pressure maps for grid shaped as an ellipsoid\n",
    "radius_x, radius_y, radius_z = 0.005, 0.005, 0.02\n",
    "pressures = []\n",
    "for n in [-0.25,0,0.25]:\n",
    "    x_offset, y_offset, z_offset = n*xfmax, 0.0*yfmax, 0.6*zfmax\n",
    "    ellipsoid = ((xp - x_offset) / radius_x) ** 2 + ((yp - y_offset) / radius_y) ** 2 + ((zp - z_offset) / radius_z) ** 2\n",
    "    pressure = np.exp(-ellipsoid) * 500000  # Use an exponential decay for smoothness\n",
    "    pressures.append(pressure)\n",
    "pressures=np.array(pressures)\n",
    "\n",
    "# Middles slice indexes\n",
    "cx=nxf//2\n",
    "cy=nyf//2\n",
    "cz=nzf//2\n",
    "\n",
    "# Visualize pressure plot\n",
    "plt.imshow(np.sum(pressures,axis=0)[:,cy,:].T, extent=(xfmin,xfmax,zfmax,zfmin))\n",
    "\n",
    "plt.colorbar(label=\"Intensity\")\n",
    "plt.title(\"Pressure\")\n",
    "plt.show()\n"
   ]
  },
  {
   "cell_type": "markdown",
   "metadata": {},
   "source": [
    "## BHTE Setup"
   ]
  },
  {
   "cell_type": "code",
   "execution_count": 6,
   "metadata": {},
   "outputs": [],
   "source": [
    "# Create Material Map\n",
    "# All water\n",
    "# MaterialMap = np.zeros_like(pressure,dtype=np.uint32)\n",
    "\n",
    "# All tissues\n",
    "# MaterialMap = np.zeros_like(pressure,dtype=np.uint32)\n",
    "# tissue_start = nzf//10\n",
    "# MaterialMap[:,:,tissue_start:tissue_start+2] = 1\n",
    "# MaterialMap[:,:,tissue_start+2:tissue_start+5] = 2\n",
    "# MaterialMap[:,:,tissue_start+5:tissue_start+11] = 3\n",
    "# MaterialMap[:,:,tissue_start+11:tissue_start+14] = 2\n",
    "# MaterialMap[:,:,tissue_start+14:] = 4\n",
    "\n",
    "# All Brain\n",
    "MaterialMap = 4*np.ones_like(pressures[-1],dtype=np.uint32)\n",
    "\n",
    "# Determine material properties for specified frequency\n",
    "MaterialList = GetMaterialList(Frequency,BaselineTemperature)\n",
    "\n",
    "# Create masks\n",
    "SelSkin = MaterialMap==1\n",
    "SelSkull = (MaterialMap>1) & (MaterialMap<4)\n",
    "SelBrain = MaterialMap==4\n",
    "\n",
    "# Other BHTE parameters\n",
    "nFactorMonitoring=int(50e-3/dt) # we just track every 50 ms\n",
    "TotalDurationSteps=int((DurationUS+.001)/dt)\n",
    "\n",
    "DurationCalculations=0.1 # for short sonications, we approximate in chunks of 0.1 seconds\n",
    "while(True): #we need to add a fix for low duty cycle\n",
    "    NCyclesOn=int(DutyCycle*DurationCalculations/dt)\n",
    "    if NCyclesOn>0:\n",
    "        break\n",
    "    DurationCalculations+=0.1\n",
    "NCyclesOff=int(DurationCalculations/dt)-NCyclesOn\n",
    "assert(NCyclesOn>0)\n",
    "assert(NCyclesOff>0 )\n",
    "\n",
    "nStepsOnOffList=np.zeros((len(pressures),2),np.int32)\n",
    "#all points have the same duration\n",
    "nStepsOnOffList[:,0]=NCyclesOn\n",
    "nStepsOnOffList[:,1]=NCyclesOff\n"
   ]
  },
  {
   "cell_type": "markdown",
   "metadata": {},
   "source": [
    "## Run BHTE"
   ]
  },
  {
   "cell_type": "code",
   "execution_count": 7,
   "metadata": {},
   "outputs": [
    {
     "name": "stdout",
     "output_type": "stream",
     "text": [
      "TimingFields [[ 0  1 10]\n",
      " [10 11 20]\n",
      " [20 21 30]]\n",
      "0 12000\n",
      "1200 12000\n",
      "2400 12000\n",
      "3600 12000\n",
      "4800 12000\n",
      "6000 12000\n",
      "7200 12000\n",
      "8400 12000\n",
      "9600 12000\n",
      "10800 12000\n",
      "Done BHTE\n"
     ]
    }
   ],
   "source": [
    "ResTemp,ResDose,MonitorSlice,Qarr = BHTEMultiplePressureFields(pressures,\n",
    "                                                               MaterialMap,\n",
    "                                                               MaterialList,\n",
    "                                                               (xfield[1]-xfield[0]),\n",
    "                                                               TotalDurationSteps,\n",
    "                                                               nStepsOnOffList,\n",
    "                                                               cy,\n",
    "                                                               nFactorMonitoring=nFactorMonitoring,\n",
    "                                                               dt=dt,\n",
    "                                                               Backend=gpu_backend,\n",
    "                                                               stableTemp=BaselineTemperature)\n"
   ]
  },
  {
   "cell_type": "markdown",
   "metadata": {},
   "source": [
    "## Plot Data"
   ]
  },
  {
   "cell_type": "code",
   "execution_count": 8,
   "metadata": {},
   "outputs": [
    {
     "name": "stderr",
     "output_type": "stream",
     "text": [
      "/var/folders/y2/6t_gccws4bnbsyy23d6f1cxh0000gq/T/ipykernel_16680/3202981786.py:22: UserWarning: No contour levels were found within the data range.\n",
      "  thermal_plot_1.contour(\n"
     ]
    },
    {
     "data": {
      "image/png": "[encoded data removed]",
      "text/plain": [
       "<Figure size 1200x400 with 2 Axes>"
      ]
     },
     "metadata": {},
     "output_type": "display_data"
    }
   ],
   "source": [
    "# Editing\n",
    "IsppaRatio=5.0/BaseIsppa\n",
    "Tmap=(ResTemp[:,cy,:].T-BaselineTemperature)*IsppaRatio+BaselineTemperature\n",
    "crlims=[0,1,2,3]\n",
    "\n",
    "# Create figure and axis\n",
    "thermal_figure = plt.figure(figsize=(12, 4))\n",
    "thermal_plot_1 = thermal_figure.figure.subplots(1,1)\n",
    "\n",
    "# Display temperature map\n",
    "im1 = thermal_plot_1.imshow(\n",
    "    Tmap,\n",
    "    extent=[xfield.min(), xfield.max(), zfield.max(), zfield.min()],\n",
    "    cmap=plt.cm.jet,\n",
    "    vmin=BaselineTemperature\n",
    ")\n",
    "\n",
    "# Create mesh grid for contour plot\n",
    "YY, ZZ = np.meshgrid(yfield, zfield)\n",
    "\n",
    "# Plot contours\n",
    "thermal_plot_1.contour(\n",
    "    YY, ZZ, MaterialMap[cx,:,:].T,\n",
    "    levels=crlims,\n",
    "    cmap=plt.cm.gray\n",
    ")\n",
    "\n",
    "# Set titles\n",
    "thermal_plot_1.set_title('Temperature ($^{\\circ}$C)')\n",
    "\n",
    "# Add color bars\n",
    "plt.colorbar(im1, ax=thermal_plot_1)\n",
    "\n",
    "# Show plots\n",
    "plt.show()\n"
   ]
  }
 ],
 "metadata": {
  "kernelspec": {
   "display_name": "bbmac_visco",
   "language": "python",
   "name": "python3"
  },
  "language_info": {
   "codemirror_mode": {
    "name": "ipython",
    "version": 3
   },
   "file_extension": ".py",
   "mimetype": "text/x-python",
   "name": "python",
   "nbconvert_exporter": "python",
   "pygments_lexer": "ipython3",
   "version": "3.9.13"
  },
  "metadata": {
   "interpreter": {
    "hash": "678daae175fc2c9769e92312ccf995f5035685dd6bbfddda5c1e541314b7fa9a"
   }
  }
 },
 "nbformat": 4,
 "nbformat_minor": 4
}
