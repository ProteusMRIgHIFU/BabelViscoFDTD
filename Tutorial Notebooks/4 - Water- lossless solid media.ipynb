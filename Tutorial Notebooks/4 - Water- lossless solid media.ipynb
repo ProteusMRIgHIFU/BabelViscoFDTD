{
 "cells": [
  {
   "cell_type": "code",
   "execution_count": null,
   "metadata": {},
   "outputs": [],
   "source": [
    "%matplotlib inline\n",
    "from matplotlib import pyplot as plt\n",
    "import numpy as np\n",
    "from BabelViscoFDTD.H5pySimple import ReadFromH5py,SaveToH5py\n",
    "from BabelViscoFDTD.PropagationModel import PropagationModel\n",
    "from scipy import ndimage\n",
    "from skimage.draw import circle_perimeter,disk\n",
    "from skimage.transform import rotate\n",
    "from ipywidgets import  HBox, VBox, GridBox, Layout, Label, IntSlider, interact,\\\n",
    "    Checkbox,GridspecLayout,interactive, widgets, FloatSlider\n",
    "from IPython.display import display\n",
    "\n",
    "PModel=PropagationModel()\n",
    "COMPUTING_BACKEND=3 # 0 for CPU, 1 for CUDA, 2 for OpenCL, 3 for Metal\n",
    "DefaultGPUDeviceName='M1' # ID of GPU"
   ]
  },
  {
   "cell_type": "markdown",
   "metadata": {},
   "source": [
    "### Preamble\n",
    "Please consult the previous examples for the basics how to run a simulation, understanding of how to prepare correctly the directivity of a source and how to prepare a focusing source\n",
    "\n",
    "\n",
    "In this example, we perform several testd of transmission through solid lossless material\n",
    "\n",
    "# 1- Water - lossless attenuating solid\n"
   ]
  },
  {
   "cell_type": "code",
   "execution_count": null,
   "metadata": {},
   "outputs": [],
   "source": [
    "Frequency = 350e3  # Hz\n",
    "WaterSOS = 1500 # m/s - water\n",
    "WaterDensity=1000 # kg/m3\n",
    "\n",
    "#Acryic\n",
    "SolidLSOS = 2848 # m/s - \n",
    "SolidsSOS = 1026 # m/s - \n",
    "SolidDensity=1190 # kg/m3\n",
    "\n",
    "Amplitude=100e3/WaterSOS/WaterDensity # 100 kPa\n",
    "\n",
    "ShortestWavelength =SolidsSOS / Frequency\n",
    "SpatialStep =ShortestWavelength / 8.0 # A minimal step of 6 is recommnded\n",
    "\n",
    "DimDomain =  np.array([0.1,0.05,0.09])  # in m, x,y,z  # in m, x,y,z\n",
    "\n",
    "TxRadius = 0.04 # m, \n",
    "TxDiameter=0.04\n",
    "PMLThickness = 12 # grid points for perect matching layer, HIGHLY RECOMMENDED DO NOT CHANGE THIS SIZE \n",
    "ReflectionLimit= 1.0000e-05 #reflection parameter for PML, HIGHLY RECOMMENDED DO NOT CHANGE THIS VALUE\n",
    "\n",
    "N1=int(np.ceil(DimDomain[0]/SpatialStep)+2*PMLThickness)\n",
    "N2=int(np.ceil(DimDomain[1]/SpatialStep)+2*PMLThickness)\n",
    "N3=int(np.ceil(DimDomain[2]/SpatialStep)+2*PMLThickness)\n",
    "print('Domain size',N1,N2,N3)\n",
    "TimeSimulation=np.sqrt(DimDomain[0]**2+DimDomain[1]**2+DimDomain[2]**2)/(np.mean([SolidsSOS,WaterSOS])) #time to cross one corner to another\n",
    "TemporalStep=5e-8 # if this step is too coarse a warning will be generated (but simulation will continue,) \n",
    "\n",
    "MaterialMap=np.zeros((N1,N2,N3),np.uint32) # note the 32 bit size\n",
    "MaterialList=np.zeros((2,5)) # two materials in this example\n",
    "MaterialList[0,0]=WaterDensity # water density\n",
    "MaterialList[0,1]=WaterSOS # water SoS\n",
    "\n",
    "MaterialList[1,0]=SolidDensity # plastic density\n",
    "MaterialList[1,1]=SolidLSOS # plastic long. SoS\n",
    "MaterialList[1,2]=SolidsSOS # plastic shear SoS\n",
    "\n",
    "#we define two - half spaces\n",
    "\n",
    "MaterialMap[:,:,int(N3/2)+1:]=1\n",
    "\n",
    "plt.figure()\n",
    "plt.imshow(MaterialMap[:,int(N2/2),:].T,cmap=plt.cm.gray);\n",
    "\n",
    "#all other parameters are set to 0 \n"
   ]
  },
  {
   "cell_type": "markdown",
   "metadata": {},
   "source": [
    "We apply the concepts on directivity to model a spherical cap for a focusing source. Below there is a function that uses scikit-image to prepare the mask of a spherical cap and how we can prepare correctly the directivity of each entry in the source mask."
   ]
  },
  {
   "cell_type": "code",
   "execution_count": null,
   "metadata": {},
   "outputs": [],
   "source": [
    "def MakeFocusingSource(N1,N2,N3,SpatialStep,TxRadius,TxDiameter,Angle):\n",
    "    #simple defintion of a focusing source centred in the domain, \n",
    "    #please note this is not a bullet-proof solution as it may not work for all cases\n",
    "    XDim=np.arange(N1)*SpatialStep\n",
    "    YDim=np.arange(N2)*SpatialStep\n",
    "    ZDim=np.arange(N3)*SpatialStep\n",
    "    XDim-=XDim[int(N1/2)]\n",
    "    YDim-=YDim[int(N2/2)]\n",
    "    ZDim-=ZDim[int(N3/2)]\n",
    "    XX,YY,ZZ=np.meshgrid(YDim,XDim,ZDim)#note we have to invert this because how meshgrid works\n",
    "    Depth=np.sqrt(TxRadius**2-(TxDiameter/2.0)**2)\n",
    "    cX=int(N1/2)\n",
    "    cZ=int(N3/2)\n",
    "    \n",
    "    MaskSource=np.zeros((N1,N2,N3),np.bool_)\n",
    "    FillMask=np.zeros((N1,N2,N3))\n",
    "    \n",
    "    for n,y in enumerate(YDim):\n",
    "        if np.abs(y)<TxRadius:\n",
    "            cDiam=int(np.ceil(TxRadius*np.sin(np.arccos(y/TxRadius))/SpatialStep))\n",
    "            rr, cc = circle_perimeter(cX,cZ,cDiam,shape=(N1,N3))\n",
    "            MaskSource[rr,n,cc]=np.True_\n",
    "            rr,cc=disk((cX,cZ),cDiam+1,shape=(N1,N3))\n",
    "            FillMask[rr,n,cc]=1\n",
    "            \n",
    "    \n",
    "    FillMask[ZZ<=-Depth]=0.\n",
    "    #instead of rotating the arc, we rotate the mask that will negate the perimeter to be turned off\n",
    "    if Angle!=0.:\n",
    "        for n in range(N2):\n",
    "            FillMask[:,n,:]=rotate(FillMask[:,n,:],Angle,preserve_range=True)\n",
    "        \n",
    "    MaskSource[FillMask!=0]=False\n",
    "        \n",
    "    #since the sphere mask is 0-centred, the orientation vectors in each point is straighforward\n",
    "    OxOyOz=np.vstack((-XX.flatten(),-YY.flatten(),-ZZ.flatten())).T\n",
    "    #and we just normalize\n",
    "    OxOyOz/=np.tile( np.linalg.norm(OxOyOz,axis=1).reshape(OxOyOz.shape[0],1),[1,3])\n",
    "    Ox=OxOyOz[:,1].reshape(XX.shape) \n",
    "    Oy=OxOyOz[:,0].reshape(XX.shape)\n",
    "    Oz=OxOyOz[:,2].reshape(XX.shape)\n",
    "    Ox[MaskSource==False]=0\n",
    "    Oy[MaskSource==False]=0\n",
    "    Oz[MaskSource==False]=0\n",
    "    return MaskSource.astype(np.uint32),Ox,Oy,Oz"
   ]
  },
  {
   "cell_type": "markdown",
   "metadata": {},
   "source": [
    "We use a rotated focusing source so we can analyze the multiple stress that are generated once the acoustic beam reaches the solid"
   ]
  },
  {
   "cell_type": "code",
   "execution_count": null,
   "metadata": {},
   "outputs": [],
   "source": [
    "SourceMap,Ox,Oy,Oz=MakeFocusingSource(N1,N2,N3,SpatialStep,TxRadius,TxDiameter,-20)\n",
    "XDim=(np.arange(N1)*SpatialStep-(PMLThickness+1)*SpatialStep)*100 #cm\n",
    "XDim-=XDim.mean()\n",
    "ZDim=(np.arange(N3)*SpatialStep-(PMLThickness+1)*SpatialStep)*100 #cm\n",
    "plt.figure(figsize=(6,5))\n",
    "plt.imshow(SourceMap[:,int(N2/2),:].T,cmap=plt.cm.gray,extent=[XDim.min(),XDim.max(),ZDim.max(),ZDim.min()]);"
   ]
  },
  {
   "cell_type": "code",
   "execution_count": null,
   "metadata": {},
   "outputs": [],
   "source": [
    "LengthSource=4.0/Frequency #we will use 4 pulses\n",
    "TimeVectorSource=np.arange(0,LengthSource+TemporalStep,TemporalStep)\n",
    "\n",
    "PulseSource = np.sin(2*np.pi*Frequency*TimeVectorSource)\n",
    "plt.figure()\n",
    "plt.plot(TimeVectorSource*1e6,PulseSource)\n",
    "plt.title('4-pulse signal')\n",
    "\n",
    "#note we need expressively to arrange the data in a 2D array\n",
    "PulseSource=np.reshape(PulseSource,(1,len(TimeVectorSource))) "
   ]
  },
  {
   "cell_type": "code",
   "execution_count": null,
   "metadata": {},
   "outputs": [],
   "source": [
    "SensorMap=np.zeros((N1,N2,N3),np.uint32)\n",
    "\n",
    "SensorMap[PMLThickness:-PMLThickness,int(N2/2),PMLThickness:-PMLThickness]=1"
   ]
  },
  {
   "cell_type": "markdown",
   "metadata": {},
   "source": [
    "### Collect stress data\n",
    "So far in the previous examples, we have collected only particle displacement, this time we will specify to collect stress data both for 3D maps and sensor data"
   ]
  },
  {
   "cell_type": "code",
   "execution_count": null,
   "metadata": {},
   "outputs": [],
   "source": [
    "Sensor,LastMap,DictRMSValue,InputParam=PModel.StaggeredFDTD_3D_with_relaxation(\n",
    "                                                         MaterialMap,\n",
    "                                                         MaterialList,\n",
    "                                                         Frequency,\n",
    "                                                         SourceMap,\n",
    "                                                         PulseSource,\n",
    "                                                         SpatialStep,\n",
    "                                                         TimeSimulation,\n",
    "                                                         SensorMap,\n",
    "                                                         Ox=Ox*Amplitude,\n",
    "                                                         Oy=Oy*Amplitude,\n",
    "                                                         Oz=Oz*Amplitude,\n",
    "                                                         NDelta=PMLThickness,\n",
    "                                                         DT=TemporalStep,\n",
    "                                                         ReflectionLimit=ReflectionLimit,\n",
    "                                                         COMPUTING_BACKEND=COMPUTING_BACKEND,\n",
    "                                                         USE_SINGLE=True,\n",
    "                                                         SelRMSorPeak=1,\n",
    "                                                         SelMapsRMSPeakList=['Sigmaxx',\n",
    "                                                                            'Sigmayy','Sigmazz',\n",
    "                                                                            'Sigmaxy','Sigmaxz',\n",
    "                                                                            'Sigmayz','Pressure'],\n",
    "                                                         DefaultGPUDeviceName=DefaultGPUDeviceName,\n",
    "                                                         SelMapsSensorsList=['Vx','Vy','Vz',\n",
    "                                                                            'Sigmaxx',\n",
    "                                                                            'Sigmayy','Sigmazz',\n",
    "                                                                            'Sigmaxy','Sigmaxz',\n",
    "                                                                            'Sigmayz','Pressure'],\n",
    "                                                         SensorSubSampling=4,\n",
    "                                                         TypeSource=0)"
   ]
  },
  {
   "cell_type": "markdown",
   "metadata": {},
   "source": [
    "We can see now that the multiple matrices were returned"
   ]
  },
  {
   "cell_type": "code",
   "execution_count": null,
   "metadata": {},
   "outputs": [],
   "source": [
    "print(DictRMSValue.keys())"
   ]
  },
  {
   "cell_type": "markdown",
   "metadata": {},
   "source": [
    "### Ploting data"
   ]
  },
  {
   "cell_type": "code",
   "execution_count": null,
   "metadata": {},
   "outputs": [],
   "source": [
    "plt.figure(figsize=(18,8))\n",
    "n=1\n",
    "for k,RMSValue in DictRMSValue.items():\n",
    "    for a in range(3):\n",
    "        for m in range(-2,3):\n",
    "            RMSValue[np.roll(SourceMap>0,m,axis=a)]=0. #we turn off the values close the source \n",
    "    plt.subplot(2,4,n)\n",
    "    selP=RMSValue[:,int(N2/2),:].copy()\n",
    "    if 'Sigma' in k:\n",
    "        selP=selP/1e5 \n",
    "    plt.imshow(selP.T,cmap=plt.cm.jet)\n",
    "    plt.colorbar()\n",
    "    if 'Sigma' in k:\n",
    "        plt.title('$\\sigma_{'+k.split('Sigma')[1]+'}$')\n",
    "    else:\n",
    "        plt.title(k)\n",
    "    n+=1\n"
   ]
  },
  {
   "cell_type": "markdown",
   "metadata": {},
   "source": [
    "As the pressure is the result the divergence of the three $V$ components, it shows very clearly the refaction effect of the water-liquid interface"
   ]
  },
  {
   "cell_type": "markdown",
   "metadata": {},
   "source": [
    "### Plot sensor data maps over time\n",
    "As we collected sensor data for $V_x$, $V_y$, $V_y$, $\\sigma_{xx}$, $\\sigma_{yy}$, $\\sigma_{zz}$, $\\sigma_{xy}$, $\\sigma_{xz}$, and $\\sigma_{xz}$ , we can plot them using a widget to scroll the data over time"
   ]
  },
  {
   "cell_type": "code",
   "execution_count": null,
   "metadata": {},
   "outputs": [],
   "source": [
    "class ShowTimeData(object):\n",
    "    def __init__(self,N1,N2,N3,InputParam,SourceMap,Sensor,Skip=1):\n",
    "        nL=Sensor['Vx'].shape[1]\n",
    "        IndTime=np.arange(0,nL,Skip)\n",
    "        SensorPlane={}\n",
    "        for k in Sensor:\n",
    "            if k=='time':\n",
    "                continue\n",
    "            SensorPlane[k]=np.zeros((N1,N3,len(IndTime)))\n",
    "        BInd=[]\n",
    "        for n, index in enumerate( InputParam['IndexSensorMap']): \n",
    "            k=int(index/(N1*N2))\n",
    "            j=int(index%(N1*N2))\n",
    "            i=int(j%N1)\n",
    "            j=int(j/N1)\n",
    "            BInd.append([i,j,k])\n",
    "        BInd=np.array(BInd)\n",
    "        for k in SensorPlane:\n",
    "            for nt,et in enumerate(IndTime):\n",
    "                SensorPlane[k][BInd[:,0],BInd[:,2],nt]=Sensor[k][:,et]\n",
    "            if 'Sigma' in k:\n",
    "                SensorPlane[k]/=1e5\n",
    "            if 'Pressure'==k:\n",
    "                SensorPlane[k]/=1e6\n",
    "        self.SensorPlane=SensorPlane\n",
    "        self.fig=None\n",
    "        \n",
    "    def PlotTimePoint(self,timep=0):\n",
    "        if self.fig:\n",
    "            plt.close(self.fig)\n",
    "        \n",
    "        self.fig=plt.figure(figsize=(16,16))\n",
    "        n=1\n",
    "        for k in  self.SensorPlane:\n",
    "            plt.subplot(4,3,n)\n",
    "            plt.imshow(self.SensorPlane[k][:,:,timep].T,cmap=plt.cm.jet)\n",
    "            plt.colorbar()\n",
    "            n+=1\n",
    "            if 'V' in k:\n",
    "                plt.title('$V_'+k.split('V')[1]+'$')\n",
    "            elif 'Sigma' in k:\n",
    "                plt.title('$\\sigma_{'+k.split('Sigma')[1]+'}$')\n",
    "            else:\n",
    "                plt.title(k)\n",
    "        plt.show()\n",
    "        \n",
    "    def SelectTimePoint(self):\n",
    "        Sel=IntSlider(description='Time point',value=0,\n",
    "                        min=0,max=self.SensorPlane[list(self.SensorPlane.keys())[0]].shape[2]-1,step=1,continuous_update=False,\n",
    "                        layout=Layout(width='75%'),style={'description_width': 'initial'})\n",
    "        interact(self.PlotTimePoint,timep=Sel)\n",
    "       \n",
    "        "
   ]
  },
  {
   "cell_type": "code",
   "execution_count": null,
   "metadata": {},
   "outputs": [],
   "source": [
    "ShowTimeData(N1,N2,N3,InputParam,SourceMap,Sensor).SelectTimePoint()"
   ]
  },
  {
   "cell_type": "markdown",
   "metadata": {},
   "source": [
    "Because the orientation of the transducer rotated along the $Y$ axis, we can clearly see the P-wave (faster and with longer wavelength) in $\\sigma_{xx}$ and $\\sigma_{zz}$, and the S-wave (slower and with shorter wavelength) in $\\sigma_{xy}$, $\\sigma_{xz}$, $\\sigma_{yz}$"
   ]
  },
  {
   "cell_type": "markdown",
   "metadata": {},
   "source": [
    "# Solid surrounded by water\n",
    "\n",
    "Now this time we simulate the case a block of plastic (1.4 cm-thick) is surrounded by water"
   ]
  },
  {
   "cell_type": "code",
   "execution_count": null,
   "metadata": {},
   "outputs": [],
   "source": [
    "MaterialMap=np.zeros((N1,N2,N3),np.uint32) # note the 32 bit size\n",
    "MaterialList=np.zeros((2,5)) # two materials in this example\n",
    "MaterialList[0,0]=WaterDensity # water density\n",
    "MaterialList[0,1]=WaterSOS # water SoS\n",
    "\n",
    "MaterialList[1,0]=SolidDensity # plastic density\n",
    "MaterialList[1,1]=SolidLSOS # plastic long. SoS\n",
    "MaterialList[1,2]=SolidsSOS # plastic shear SoS\n",
    "\n",
    "#we define two - half spaces\n",
    "\n",
    "MaterialMap[:,:,int(N3/2):int(N3/2)+40]=1\n",
    "\n",
    "plt.figure()\n",
    "plt.imshow(MaterialMap[:,int(N2/2),:].T,cmap=plt.cm.gray);\n"
   ]
  },
  {
   "cell_type": "code",
   "execution_count": null,
   "metadata": {},
   "outputs": [],
   "source": [
    "Sensor,LastMap,DictRMSValue,InputParam=PModel.StaggeredFDTD_3D_with_relaxation(\n",
    "                                                         MaterialMap,\n",
    "                                                         MaterialList,\n",
    "                                                         Frequency,\n",
    "                                                         SourceMap,\n",
    "                                                         PulseSource,\n",
    "                                                         SpatialStep,\n",
    "                                                         TimeSimulation,\n",
    "                                                         SensorMap,\n",
    "                                                         Ox=Ox*Amplitude,\n",
    "                                                         Oy=Oy*Amplitude,\n",
    "                                                         Oz=Oz*Amplitude,\n",
    "                                                         NDelta=PMLThickness,\n",
    "                                                         DT=TemporalStep,\n",
    "                                                         ReflectionLimit=ReflectionLimit,\n",
    "                                                         COMPUTING_BACKEND=COMPUTING_BACKEND,\n",
    "                                                         USE_SINGLE=True,\n",
    "                                                         SelRMSorPeak=1,\n",
    "                                                         SelMapsRMSPeakList=['Sigmaxx',\n",
    "                                                                            'Sigmayy','Sigmazz',\n",
    "                                                                            'Sigmaxy','Sigmaxz',\n",
    "                                                                            'Sigmayz','Pressure'],\n",
    "                                                         DefaultGPUDeviceName=DefaultGPUDeviceName,\n",
    "                                                         SelMapsSensorsList=['Vx','Vy','Vz',\n",
    "                                                                            'Sigmaxx',\n",
    "                                                                            'Sigmayy','Sigmazz',\n",
    "                                                                            'Sigmaxy','Sigmaxz',\n",
    "                                                                            'Sigmayz','Pressure'],\n",
    "                                                         SensorSubSampling=4,\n",
    "                                                         TypeSource=1)"
   ]
  },
  {
   "cell_type": "markdown",
   "metadata": {},
   "source": [
    "### Ploting data"
   ]
  },
  {
   "cell_type": "code",
   "execution_count": null,
   "metadata": {},
   "outputs": [],
   "source": [
    "plt.figure(figsize=(18,8))\n",
    "n=1\n",
    "for k,RMSValue in DictRMSValue.items():\n",
    "    for a in range(3):\n",
    "        for m in range(-2,3):\n",
    "            RMSValue[np.roll(SourceMap>0,m,axis=a)]=0. #we turn off the values close the source \n",
    "    plt.subplot(2,4,n)\n",
    "    selP=RMSValue[:,int(N2/2),:].copy()\n",
    "    if 'Sigma' in k:\n",
    "        selP=selP/1e5 \n",
    "    plt.imshow(selP.T,cmap=plt.cm.jet)\n",
    "    plt.colorbar()\n",
    "    if 'Sigma' in k:\n",
    "        plt.title('$\\sigma_{'+k.split('Sigma')[1]+'}$')\n",
    "    else:\n",
    "        plt.title(k)\n",
    "    n+=1\n"
   ]
  },
  {
   "cell_type": "code",
   "execution_count": null,
   "metadata": {},
   "outputs": [],
   "source": [
    "ShowTimeData(N1,N2,N3,InputParam,SourceMap,Sensor).SelectTimePoint()"
   ]
  },
  {
   "cell_type": "markdown",
   "metadata": {},
   "source": [
    "We can appreciate in the all \"All_V\" and \"Pressure\" maps that two patterns appear in the far field water domain, indicating the longitudinal and shear type conversion. The longitudinal transmission being the field more refracted.\n",
    "\n",
    "In the temporal map plots, we can also appreciate the multiple internal reflections in the layer of plastic, including transmitted waves in both upper and lower water regions.\n",
    "\n",
    "# Above critical angle\n",
    "The previous example used an acoustic beam hitting the block material with an inciden angle of 20 degrees. The critical angle for this material is around 38 degrees. To show only shear-type transmission through the solid, this time we run the simulation with an incident angle of 45 degrees."
   ]
  },
  {
   "cell_type": "code",
   "execution_count": null,
   "metadata": {},
   "outputs": [],
   "source": [
    "SourceMap,Ox,Oy,Oz=MakeFocusingSource(N1,N2,N3,SpatialStep,TxRadius,TxDiameter,-45)\n",
    "XDim=(np.arange(N1)*SpatialStep-(PMLThickness+1)*SpatialStep)*100 #cm\n",
    "XDim-=XDim.mean()\n",
    "ZDim=(np.arange(N3)*SpatialStep-(PMLThickness+1)*SpatialStep)*100 #cm\n",
    "plt.figure(figsize=(6,5))\n",
    "plt.imshow(SourceMap[:,int(N2/2),:].T,cmap=plt.cm.gray);"
   ]
  },
  {
   "cell_type": "code",
   "execution_count": null,
   "metadata": {},
   "outputs": [],
   "source": [
    "Sensor,LastMap,DictRMSValue,InputParam=PModel.StaggeredFDTD_3D_with_relaxation(\n",
    "                                                         MaterialMap,\n",
    "                                                         MaterialList,\n",
    "                                                         Frequency,\n",
    "                                                         SourceMap,\n",
    "                                                         PulseSource,\n",
    "                                                         SpatialStep,\n",
    "                                                         TimeSimulation,\n",
    "                                                         SensorMap,\n",
    "                                                         Ox=Ox*Amplitude,\n",
    "                                                         Oy=Oy*Amplitude,\n",
    "                                                         Oz=Oz*Amplitude,\n",
    "                                                         NDelta=PMLThickness,\n",
    "                                                         DT=TemporalStep,                                                         \n",
    "                                                         ReflectionLimit=ReflectionLimit,\n",
    "                                                         COMPUTING_BACKEND=COMPUTING_BACKEND,\n",
    "                                                         USE_SINGLE=True,\n",
    "                                                         SelRMSorPeak=1,\n",
    "                                                         SelMapsRMSPeakList=['Sigmaxx',\n",
    "                                                                            'Sigmayy','Sigmazz',\n",
    "                                                                            'Sigmaxy','Sigmaxz',\n",
    "                                                                            'Sigmayz','Pressure'],\n",
    "                                                         DefaultGPUDeviceName=DefaultGPUDeviceName,\n",
    "                                                         SelMapsSensorsList=['Vx','Vy','Vz',\n",
    "                                                                            'Sigmaxx',\n",
    "                                                                            'Sigmayy','Sigmazz',\n",
    "                                                                            'Sigmaxy','Sigmaxz',\n",
    "                                                                            'Sigmayz','Pressure'],\n",
    "                                                         SensorSubSampling=4,\n",
    "                                                         TypeSource=1)"
   ]
  },
  {
   "cell_type": "markdown",
   "metadata": {},
   "source": [
    "### Ploting data"
   ]
  },
  {
   "cell_type": "code",
   "execution_count": null,
   "metadata": {},
   "outputs": [],
   "source": [
    "plt.figure(figsize=(18,8))\n",
    "n=1\n",
    "for k,RMSValue in DictRMSValue.items():\n",
    "    for a in range(3):\n",
    "        for m in range(-2,3):\n",
    "            RMSValue[np.roll(SourceMap>0,m,axis=a)]=0. #we turn off the values close the source \n",
    "    plt.subplot(2,4,n)\n",
    "    selP=RMSValue[:,int(N2/2),:].copy()\n",
    "    if 'Sigma' in k:\n",
    "        selP=selP/1e5 \n",
    "    plt.imshow(selP.T,cmap=plt.cm.jet)\n",
    "    plt.colorbar()\n",
    "    if 'Sigma' in k:\n",
    "        plt.title('$\\sigma_{'+k.split('Sigma')[1]+'}$')\n",
    "    else:\n",
    "        plt.title(k)\n",
    "    n+=1\n"
   ]
  },
  {
   "cell_type": "code",
   "execution_count": null,
   "metadata": {},
   "outputs": [],
   "source": [
    "ShowTimeData(N1,N2,N3,InputParam,SourceMap,Sensor).SelectTimePoint()"
   ]
  },
  {
   "cell_type": "markdown",
   "metadata": {},
   "source": [
    "In this example, the transmitted field in the far field is much more coherent given that there is not mix between shear-mode and longitudinal-mode conversion. The field inside the solid shows  clearly a refracted field with a  transmission angle that is lower than the incident angle, which is expected as the shear speed of sound is less that the longitidunal speed of sound in water. Once the acoustic waves reaches the second water domain in the far field we obtain back a refracted beam that recovers the same transmission angle as the incident angle in the top domain."
   ]
  },
  {
   "cell_type": "code",
   "execution_count": null,
   "metadata": {},
   "outputs": [],
   "source": []
  }
 ],
 "metadata": {
  "kernelspec": {
   "display_name": "Python 3 (ipykernel)",
   "language": "python",
   "name": "python3"
  },
  "language_info": {
   "codemirror_mode": {
    "name": "ipython",
    "version": 3
   },
   "file_extension": ".py",
   "mimetype": "text/x-python",
   "name": "python",
   "nbconvert_exporter": "python",
   "pygments_lexer": "ipython3",
   "version": "3.10.13"
  }
 },
 "nbformat": 4,
 "nbformat_minor": 4
}
