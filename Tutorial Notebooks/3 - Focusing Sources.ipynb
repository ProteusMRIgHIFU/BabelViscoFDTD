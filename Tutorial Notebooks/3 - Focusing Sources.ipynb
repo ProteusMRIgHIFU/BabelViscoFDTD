{
 "cells": [
  {
   "cell_type": "code",
   "execution_count": null,
   "metadata": {},
   "outputs": [],
   "source": [
    "%matplotlib inline\n",
    "from matplotlib import pyplot as plt\n",
    "import numpy as np\n",
    "from BabelViscoFDTD.H5pySimple import ReadFromH5py,SaveToH5py\n",
    "from BabelViscoFDTD.PropagationModel import PropagationModel\n",
    "from scipy import ndimage\n",
    "from skimage.draw import circle_perimeter,disk\n",
    "from skimage.transform import rotate\n",
    "PModel=PropagationModel()\n"
   ]
  },
  {
   "cell_type": "markdown",
   "metadata": {},
   "source": [
    "### Preamble\n",
    "Please consult first the examples in the `1 - Flat source homgenous medium.ipynb` and `2 - Control of directivity .ipynb` notebooks for the basics how to run a simulation and understanding of how to prepare correctly the directivity of a source\n",
    "\n",
    "\n",
    "In this example we apply the previous concepts to model a focused source\n",
    "\n",
    "# 1 - Focused source\n"
   ]
  },
  {
   "cell_type": "code",
   "execution_count": null,
   "metadata": {},
   "outputs": [],
   "source": [
    "Frequency = 350e3  # Hz\n",
    "MediumSOS = 1500 # m/s - water\n",
    "MediumDensity=1000 # kg/m3\n",
    "\n",
    "ShortestWavelength =MediumSOS / Frequency\n",
    "SpatialStep =ShortestWavelength / 8.0 # A minimal step of 6 is recommnded\n",
    "\n",
    "DimDomain =  np.array([0.05,0.05,0.08])  # in m, x,y,z\n",
    "\n",
    "FactorConvPtoU=MediumSOS*MediumDensity\n",
    "\n",
    "SourceAmp=60e3/FactorConvPtoU # Pressure pf 60 kPa at the Surfacee\n",
    "\n",
    "TxRadius = 0.04 # m, \n",
    "TxDiameter=0.04\n",
    "PMLThickness = 12 # grid points for perect matching layer, HIGHLY RECOMMENDED DO NOT CHANGE THIS SIZE \n",
    "ReflectionLimit= 1.0000e-05 #reflection parameter for PML, IGHLY RECOMMENDED DO NOT CHANGE THIS VALUE\n",
    "\n",
    "N1=int(np.ceil(DimDomain[0]/SpatialStep)+2*PMLThickness)\n",
    "N2=int(np.ceil(DimDomain[1]/SpatialStep)+2*PMLThickness)\n",
    "N3=int(np.ceil(DimDomain[2]/SpatialStep)+2*PMLThickness)\n",
    "print('Domain size',N1,N2,N3)\n",
    "TimeSimulation=np.sqrt(DimDomain[0]**2+DimDomain[1]**2+DimDomain[2]**2)/MediumSOS #time to cross one corner to another\n",
    "TemporalStep=1e-7 # if this step is too coarse a warning will be generated (but simulation will continue,) \n",
    "\n",
    "MaterialMap=np.zeros((N1,N2,N3),np.uint32) # note the 32 bit size\n",
    "MaterialList=np.zeros((1,5)) # one material in this examples\n",
    "MaterialList[0,0]=MediumDensity # water density\n",
    "MaterialList[0,1]=MediumSOS # water SoS\n",
    "#all other parameters are set to 0 \n",
    "COMPUTING_BACKEND=3 # 0 for CPU, 1 for CUDA, 2 for OpenCL, 3 for Metal\n",
    "DefaultGPUDeviceName='M1' # ID of GPU"
   ]
  },
  {
   "cell_type": "markdown",
   "metadata": {},
   "source": [
    "We apply the concepts on directivity to model a spherical cap for a focusing source. Below there is a function that uses scikit-image to prepare the mask of a spherical cap and how we can prepare correctly the directivity of each entry in the source mask."
   ]
  },
  {
   "cell_type": "code",
   "execution_count": null,
   "metadata": {},
   "outputs": [],
   "source": [
    "\n",
    "def MakeFocusingSource(N1,N2,N3,SpatialStep,TxRadius,TxDiameter,Angle):\n",
    "    #simple defintion of a focusing source centred in the domain, \n",
    "    #please note this is not a bullet-proof solution as it may not work for all cases\n",
    "    XDim=np.arange(N1)*SpatialStep\n",
    "    YDim=np.arange(N2)*SpatialStep\n",
    "    ZDim=np.arange(N3)*SpatialStep\n",
    "    XDim-=XDim[int(N1/2)]\n",
    "    YDim-=YDim[int(N2/2)]\n",
    "    ZDim-=ZDim[int(N3/2)]\n",
    "    XX,YY,ZZ=np.meshgrid(YDim,XDim,ZDim)#note we have to invert this because how meshgrid works\n",
    "    Depth=np.sqrt(TxRadius**2-(TxDiameter/2.0)**2)\n",
    "    cX=int(N1/2)\n",
    "    cZ=int(N3/2)\n",
    "    \n",
    "    MaskSource=np.zeros((N1,N2,N3),np.bool_)\n",
    "    FillMask=np.zeros((N1,N2,N3))\n",
    "    \n",
    "    for n,y in enumerate(YDim):\n",
    "        if np.abs(y)<TxRadius:\n",
    "            cDiam=int(np.ceil(TxRadius*np.sin(np.arccos(y/TxRadius))/SpatialStep))\n",
    "            rr, cc = circle_perimeter(cX,cZ,cDiam,shape=(N1,N3))\n",
    "            MaskSource[rr,n,cc]=np.True_\n",
    "            rr,cc=disk((cX,cZ),cDiam+1,shape=(N1,N3))\n",
    "            FillMask[rr,n,cc]=1\n",
    "            \n",
    "    \n",
    "    FillMask[ZZ<=-Depth]=0.\n",
    "    #instead of rotating the arc, we rotate the mask that will negate the perimeter to be turned off\n",
    "    if Angle!=0.:\n",
    "        for n in range(N2):\n",
    "            FillMask[:,n,:]=rotate(FillMask[:,n,:],Angle,preserve_range=True)\n",
    "        \n",
    "    MaskSource[FillMask!=0]=False\n",
    "        \n",
    "    #since the sphere mask is 0-centred, the orientation vectors in each point is straighforward\n",
    "    OxOyOz=np.vstack((-XX.flatten(),-YY.flatten(),-ZZ.flatten())).T\n",
    "    #and we just normalize\n",
    "    OxOyOz/=np.tile( np.linalg.norm(OxOyOz,axis=1).reshape(OxOyOz.shape[0],1),[1,3])\n",
    "    Ox=OxOyOz[:,1].reshape(XX.shape) \n",
    "    Oy=OxOyOz[:,0].reshape(XX.shape)\n",
    "    Oz=OxOyOz[:,2].reshape(XX.shape)\n",
    "    Ox[MaskSource==False]=0\n",
    "    Oy[MaskSource==False]=0\n",
    "    Oz[MaskSource==False]=0\n",
    "    return MaskSource.astype(np.uint32),Ox,Oy,Oz\n",
    "\n",
    "SourceMap,Ox,Oy,Oz=MakeFocusingSource(N1,N2,N3,SpatialStep,TxRadius,TxDiameter,0)\n",
    "XDim=(np.arange(N1)*SpatialStep-(PMLThickness+1)*SpatialStep)*100 #cm\n",
    "XDim-=XDim.mean()\n",
    "ZDim=(np.arange(N3)*SpatialStep-(PMLThickness+1)*SpatialStep)*100 #cm\n",
    "plt.figure(figsize=(6,5))\n",
    "plt.imshow(SourceMap[:,int(N2/2),:].T,cmap=plt.cm.gray,extent=[XDim.min(),XDim.max(),ZDim.max(),ZDim.min()]);\n"
   ]
  },
  {
   "cell_type": "code",
   "execution_count": null,
   "metadata": {},
   "outputs": [],
   "source": [
    "LengthSource=4.0/Frequency #we will use 4 pulses\n",
    "TimeVectorSource=np.arange(0,LengthSource+TemporalStep,TemporalStep)\n",
    "\n",
    "PulseSource = np.sin(2*np.pi*Frequency*TimeVectorSource)\n",
    "plt.figure()\n",
    "plt.plot(TimeVectorSource*1e6,PulseSource)\n",
    "plt.title('4-pulse signal')\n",
    "\n",
    "#note we need expressively to arrange the data in a 2D array\n",
    "PulseSource=np.reshape(PulseSource,(1,len(TimeVectorSource))) "
   ]
  },
  {
   "cell_type": "code",
   "execution_count": null,
   "metadata": {},
   "outputs": [],
   "source": [
    "SensorMap=np.zeros((N1,N2,N3),np.uint32)\n",
    "\n",
    "SensorMap[PMLThickness:-PMLThickness,int(N2/2),PMLThickness:-PMLThickness]=1\n",
    "\n",
    "plt.figure()\n",
    "plt.imshow(SensorMap[:,int(N2/2),:].T,cmap=plt.cm.gray)\n",
    "plt.title('Sensor map location');"
   ]
  },
  {
   "cell_type": "code",
   "execution_count": null,
   "metadata": {},
   "outputs": [],
   "source": [
    "Sensor,LastMap,DictRMSValue,InputParam=PModel.StaggeredFDTD_3D_with_relaxation(\n",
    "                                                         MaterialMap,\n",
    "                                                         MaterialList,\n",
    "                                                         Frequency,\n",
    "                                                         SourceMap,\n",
    "                                                         PulseSource,\n",
    "                                                         SpatialStep,\n",
    "                                                         TimeSimulation,\n",
    "                                                         SensorMap,\n",
    "                                                         Ox=Ox*SourceAmp,\n",
    "                                                         Oy=Oy*SourceAmp,\n",
    "                                                         Oz=Oz*SourceAmp,\n",
    "                                                         NDelta=PMLThickness,\n",
    "                                                         DT=TemporalStep,\n",
    "                                                         ReflectionLimit=ReflectionLimit,\n",
    "                                                         COMPUTING_BACKEND=COMPUTING_BACKEND,\n",
    "                                                         USE_SINGLE=True,\n",
    "                                                         SelRMSorPeak=2,\n",
    "                                                         SelMapsRMSPeakList=['Pressure'],\n",
    "                                                         DefaultGPUDeviceName=DefaultGPUDeviceName,\n",
    "                                                         TypeSource=0)"
   ]
  },
  {
   "cell_type": "markdown",
   "metadata": {},
   "source": [
    "### Ploting data"
   ]
  },
  {
   "cell_type": "code",
   "execution_count": null,
   "metadata": {},
   "outputs": [],
   "source": [
    "RMSValue=DictRMSValue['Pressure']/1e6 # in MPa\n",
    "for a in range(3):\n",
    "    for n in range(-2,3):\n",
    "        RMSValue[np.roll(SourceMap>0,n,axis=a)]=0. #we turn off the values close the source \n",
    "\n",
    "plt.figure(figsize=(12,6))\n",
    "plt.subplot(1,2,1)\n",
    "plt.imshow(RMSValue[:,int(N2/2),:].T,cmap=plt.cm.jet)\n",
    "plt.colorbar()\n",
    "plt.subplot(1,2,2)\n",
    "plt.imshow(RMSValue[int(N1/2),:,:].T,cmap=plt.cm.jet)\n",
    "plt.colorbar();"
   ]
  },
  {
   "cell_type": "markdown",
   "metadata": {},
   "source": [
    "We can see the focused field produced by the concave source\n",
    "\n",
    "# Rotated focused transducer\n",
    "The function declared above is ready to produce a rotated source in the $Y$-axis. We run a simulation with a source rotated 20 degrees."
   ]
  },
  {
   "cell_type": "code",
   "execution_count": null,
   "metadata": {},
   "outputs": [],
   "source": [
    "DimDomain =  np.array([0.1,0.1,0.08])  # in m, x,y,z\n",
    "\n",
    "TxRadius = 0.04 # m, \n",
    "TxDiameter=0.04\n",
    "TxPlaneLocation = 0.01  # m , in XY plane at Z = 0.01 m\n",
    "\n",
    "PMLThickness = 12 # grid points for perect matching layer, HIGHLY RECOMMENDED DO NOT CHANGE THIS SIZE \n",
    "ReflectionLimit= 1.0000e-05 #reflection parameter for PML, IGHLY RECOMMENDED DO NOT CHANGE THIS VALUE\n",
    "\n",
    "N1=int(np.ceil(DimDomain[0]/SpatialStep)+2*PMLThickness)\n",
    "N2=int(np.ceil(DimDomain[1]/SpatialStep)+2*PMLThickness)\n",
    "N3=int(np.ceil(DimDomain[2]/SpatialStep)+2*PMLThickness)\n",
    "print('Domain size',N1,N2,N3)\n",
    "TimeSimulation=np.sqrt(DimDomain[0]**2+DimDomain[1]**2+DimDomain[2]**2)/MediumSOS #time to cross one corner to another\n",
    "TemporalStep=1e-7 # if this step is too coarse a warning will be generated (but simulation will continue,) \n",
    "\n",
    "MaterialMap=np.zeros((N1,N2,N3),np.uint32) # note the 32 bit size\n",
    "MaterialList=np.zeros((1,5)) # one material in this examples\n",
    "MaterialList[0,0]=MediumDensity # water density\n",
    "MaterialList[0,1]=MediumSOS # water SoS\n",
    "#all other parameters are set to 0 \n"
   ]
  },
  {
   "cell_type": "code",
   "execution_count": null,
   "metadata": {},
   "outputs": [],
   "source": [
    "SourceMap,Ox,Oy,Oz=MakeFocusingSource(N1,N2,N3,SpatialStep,TxRadius,TxDiameter,-20) # here the -20\n",
    "#SourceMap=np.roll(SourceMap,-10,axis=0)\n",
    "print(SourceMap.shape,Ox.shape,Oy.shape,Oz.shape,MaterialMap.shape)\n",
    "\n",
    "XDim=(np.arange(N1)*SpatialStep-(PMLThickness+1)*SpatialStep)*100 #cm\n",
    "XDim-=XDim.mean()\n",
    "ZDim=(np.arange(N3)*SpatialStep-(PMLThickness+1)*SpatialStep)*100 #cm\n",
    "plt.figure(figsize=(6,5))\n",
    "plt.imshow(SourceMap[:,int(N2/2),:].T,cmap=plt.cm.gray,extent=[XDim.min(),XDim.max(),ZDim.max(),ZDim.min()]);\n",
    "Ox[SourceMap>0][0:10]"
   ]
  },
  {
   "cell_type": "code",
   "execution_count": null,
   "metadata": {},
   "outputs": [],
   "source": [
    "SensorMap=np.zeros((N1,N2,N3),np.uint32)\n",
    "\n",
    "SensorMap[PMLThickness:-PMLThickness,int(N2/2),PMLThickness:-PMLThickness]=1\n",
    "\n",
    "plt.figure()\n",
    "plt.imshow(SensorMap[:,int(N2/2),:].T,cmap=plt.cm.gray)\n",
    "plt.title('Sensor map location');"
   ]
  },
  {
   "cell_type": "code",
   "execution_count": null,
   "metadata": {},
   "outputs": [],
   "source": [
    "Sensor,LastMap,DictRMSValue,InputParam=PModel.StaggeredFDTD_3D_with_relaxation(\n",
    "                                                         MaterialMap,\n",
    "                                                         MaterialList,\n",
    "                                                         Frequency,\n",
    "                                                         SourceMap,\n",
    "                                                         PulseSource,\n",
    "                                                         SpatialStep,\n",
    "                                                         TimeSimulation,\n",
    "                                                         SensorMap,\n",
    "                                                         Ox=Ox*SourceAmp,\n",
    "                                                         Oy=Oy*SourceAmp,\n",
    "                                                         Oz=Oz*SourceAmp,\n",
    "                                                         NDelta=PMLThickness,\n",
    "                                                         ReflectionLimit=ReflectionLimit,\n",
    "                                                         DT=TemporalStep,\n",
    "                                                         COMPUTING_BACKEND=COMPUTING_BACKEND,\n",
    "                                                         USE_SINGLE=True,\n",
    "                                                         SelRMSorPeak=2,\n",
    "                                                         SelMapsRMSPeakList=['Pressure'],\n",
    "                                                         DefaultGPUDeviceName=DefaultGPUDeviceName,\n",
    "                                                         TypeSource=0)"
   ]
  },
  {
   "cell_type": "markdown",
   "metadata": {},
   "source": [
    "### Ploting data"
   ]
  },
  {
   "cell_type": "code",
   "execution_count": null,
   "metadata": {},
   "outputs": [],
   "source": [
    "RMSValue=DictRMSValue['Pressure']/1e6\n",
    "for n in range(-2,3):\n",
    "    RMSValue[np.roll(SourceMap>0,n,axis=0)]=0. #we turn off the values close the source \n",
    "for n in range(-2,3):\n",
    "    RMSValue[np.roll(SourceMap>0,n,axis=2)]=0. #we turn off the values close the source \n",
    "plt.figure(figsize=(12,6))\n",
    "plt.subplot(1,2,1)\n",
    "plt.imshow(RMSValue[:,int(N2/2),:].T,cmap=plt.cm.jet)\n",
    "plt.colorbar()\n",
    "plt.subplot(1,2,2)\n",
    "plt.imshow(RMSValue[:,:,int(N3/2)].T,cmap=plt.cm.jet)\n",
    "plt.colorbar();"
   ]
  },
  {
   "cell_type": "markdown",
   "metadata": {},
   "source": [
    "We can see the rotated focused field\n",
    "\n",
    "# Source rotated 90 degrees \n",
    "\n",
    "As an interesting case to validate that the directivity of the source is correctly defined, we apply a 90 degrees rotation."
   ]
  },
  {
   "cell_type": "code",
   "execution_count": null,
   "metadata": {},
   "outputs": [],
   "source": [
    "SourceMap,Ox,Oy,Oz=MakeFocusingSource(N1,N2,N3,SpatialStep,TxRadius,TxDiameter,-90)\n",
    "#SourceMap=np.roll(SourceMap,-10,axis=0)\n",
    "print(SourceMap.shape,Ox.shape,Oy.shape,Oz.shape,MaterialMap.shape)\n",
    "\n",
    "XDim=(np.arange(N1)*SpatialStep-(PMLThickness+1)*SpatialStep)*100 #cm\n",
    "XDim-=XDim.mean()\n",
    "ZDim=(np.arange(N3)*SpatialStep-(PMLThickness+1)*SpatialStep)*100 #cm\n",
    "plt.figure(figsize=(6,5))\n",
    "plt.imshow(SourceMap[:,int(N2/2),:].T,cmap=plt.cm.gray,extent=[XDim.min(),XDim.max(),ZDim.max(),ZDim.min()]);\n",
    "Ox[SourceMap>0][0:10]"
   ]
  },
  {
   "cell_type": "code",
   "execution_count": null,
   "metadata": {},
   "outputs": [],
   "source": [
    "SensorMap=np.zeros((N1,N2,N3),np.uint32)\n",
    "\n",
    "SensorMap[PMLThickness:-PMLThickness,int(N2/2),PMLThickness:-PMLThickness]=1\n",
    "\n",
    "plt.figure()\n",
    "plt.imshow(SensorMap[:,int(N2/2),:].T,cmap=plt.cm.gray)\n",
    "plt.title('Sensor map location');"
   ]
  },
  {
   "cell_type": "code",
   "execution_count": null,
   "metadata": {},
   "outputs": [],
   "source": [
    "Sensor,LastMap,DictRMSValue,InputParam=PModel.StaggeredFDTD_3D_with_relaxation(\n",
    "                                                         MaterialMap,\n",
    "                                                         MaterialList,\n",
    "                                                         Frequency,\n",
    "                                                         SourceMap,\n",
    "                                                         PulseSource,\n",
    "                                                         SpatialStep,\n",
    "                                                         TimeSimulation,\n",
    "                                                         SensorMap,\n",
    "                                                         Ox=Ox*SourceAmp,\n",
    "                                                         Oy=Oy*SourceAmp,\n",
    "                                                         Oz=Oz*SourceAmp,\n",
    "                                                         NDelta=PMLThickness,\n",
    "                                                         DT=TemporalStep,\n",
    "                                                         ReflectionLimit=ReflectionLimit,\n",
    "                                                         COMPUTING_BACKEND=COMPUTING_BACKEND,\n",
    "                                                         USE_SINGLE=True,\n",
    "                                                         SelRMSorPeak=2,\n",
    "                                                         SelMapsRMSPeakList=['Pressure'],\n",
    "                                                         DefaultGPUDeviceName=DefaultGPUDeviceName,\n",
    "                                                         TypeSource=0)"
   ]
  },
  {
   "cell_type": "markdown",
   "metadata": {},
   "source": [
    "### Ploting data"
   ]
  },
  {
   "cell_type": "code",
   "execution_count": null,
   "metadata": {},
   "outputs": [],
   "source": [
    "RMSValue=DictRMSValue['Pressure']/1e6\n",
    "for n in range(-2,3):\n",
    "    RMSValue[np.roll(SourceMap>0,n,axis=0)]=0. #we turn off the values close the source \n",
    "for n in range(-2,3):\n",
    "    RMSValue[np.roll(SourceMap>0,n,axis=2)]=0. #we turn off the values close the source \n",
    "plt.figure(figsize=(12,6))\n",
    "plt.subplot(1,2,1)\n",
    "plt.imshow(RMSValue[:,int(N2/2),:].T,cmap=plt.cm.jet)\n",
    "plt.colorbar()\n",
    "plt.subplot(1,2,2)\n",
    "plt.imshow(RMSValue[:,:,int(N3/2)].T,cmap=plt.cm.jet)\n",
    "plt.colorbar();"
   ]
  },
  {
   "cell_type": "code",
   "execution_count": null,
   "metadata": {},
   "outputs": [],
   "source": []
  }
 ],
 "metadata": {
  "kernelspec": {
   "display_name": "Python 3 (ipykernel)",
   "language": "python",
   "name": "python3"
  },
  "language_info": {
   "codemirror_mode": {
    "name": "ipython",
    "version": 3
   },
   "file_extension": ".py",
   "mimetype": "text/x-python",
   "name": "python",
   "nbconvert_exporter": "python",
   "pygments_lexer": "ipython3",
   "version": "3.10.13"
  }
 },
 "nbformat": 4,
 "nbformat_minor": 4
}
