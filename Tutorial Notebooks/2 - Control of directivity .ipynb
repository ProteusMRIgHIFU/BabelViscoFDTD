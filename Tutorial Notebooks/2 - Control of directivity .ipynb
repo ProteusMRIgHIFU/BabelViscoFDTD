{
 "cells": [
  {
   "cell_type": "code",
   "execution_count": null,
   "metadata": {},
   "outputs": [],
   "source": [
    "%matplotlib inline\n",
    "from matplotlib import pyplot as plt\n",
    "import numpy as np\n",
    "from BabelViscoFDTD.H5pySimple import ReadFromH5py,SaveToH5py\n",
    "from BabelViscoFDTD.PropagationModel import PropagationModel\n",
    "\n",
    "PModel=PropagationModel()\n"
   ]
  },
  {
   "cell_type": "markdown",
   "metadata": {},
   "source": [
    "### Preamble\n",
    "Please consult first the example in the `1 - Flat source homgenous medium.ipynb` notebook for the basics how to run a simulation\n",
    "\n",
    "\n",
    "In this example we will cover the importance and flexibility of specifying the directivity of the particle displacement in the source\n",
    "\n",
    "\n",
    "# 1 - Source oriented in $Z$ direction\n",
    "We repeat the simulation as in `1 - Flat source homgenous medium.ipynb` example"
   ]
  },
  {
   "cell_type": "code",
   "execution_count": null,
   "metadata": {},
   "outputs": [],
   "source": [
    "Frequency = 350e3  # Hz\n",
    "MediumSOS = 1500 # m/s - water\n",
    "MediumDensity=1000 # kg/m3\n",
    "\n",
    "ShortestWavelength =MediumSOS / Frequency\n",
    "SpatialStep =ShortestWavelength / 8.0 # A minimal step of 6 is recommnded\n",
    "Amplitude=100e3/MediumDensity/MediumSOS #100 kPa\n",
    "\n",
    "DimDomain =  np.array([0.05,0.05,0.1])  # in m, x,y,z\n",
    "\n",
    "TxDiam = 0.03 # m, circular piston\n",
    "TxPlaneLocation = 0.01  # m , in XY plane at Z = 0.01 m\n",
    "\n",
    "PMLThickness = 12 # grid points for perect matching layer, HIGHLY RECOMMENDED DO NOT CHANGE THIS SIZE \n",
    "ReflectionLimit= 1.0000e-05 #reflection parameter for PML, IGHLY RECOMMENDED DO NOT CHANGE THIS VALUE\n",
    "\n",
    "N1=int(np.ceil(DimDomain[0]/SpatialStep)+2*PMLThickness)\n",
    "N2=int(np.ceil(DimDomain[1]/SpatialStep)+2*PMLThickness)\n",
    "N3=int(np.ceil(DimDomain[2]/SpatialStep)+2*PMLThickness)\n",
    "print('Domain size',N1,N2,N3)\n",
    "TimeSimulation=np.sqrt(DimDomain[0]**2+DimDomain[1]**2+DimDomain[2]**2)/MediumSOS #time to cross one corner to another\n",
    "TemporalStep=1e-7 # if this step is too coarse a warning will be generated (but simulation will continue,) \n",
    "\n",
    "MaterialMap=np.zeros((N1,N2,N3),np.uint32) # note the 32 bit size\n",
    "MaterialList=np.zeros((1,5)) # one material in this examples\n",
    "MaterialList[0,0]=MediumDensity # water density\n",
    "MaterialList[0,1]=MediumSOS # water SoS\n",
    "#all other parameters are set to 0 \n",
    "COMPUTING_BACKEND=3 # 0 for CPU, 1 for CUDA, 2 for OpenCL, 3 for Metal\n",
    "DefaultGPUDeviceName='M1' # ID of GPU"
   ]
  },
  {
   "cell_type": "code",
   "execution_count": null,
   "metadata": {},
   "outputs": [],
   "source": [
    "def MakeCircularSource(DimX,DimY,SpatialStep,Diameter):\n",
    "    #simple defintion of a circular source centred in the domain\n",
    "    XDim=np.arange(DimX)*SpatialStep\n",
    "    YDim=np.arange(DimY)*SpatialStep\n",
    "    XDim-=XDim.mean()\n",
    "    YDim-=YDim.mean()\n",
    "    XX,YY=np.meshgrid(XDim,YDim)\n",
    "    MaskSource=(XX**2+YY**2)<=(Diameter/2.0)**2\n",
    "    return (MaskSource*1.0).astype(np.uint32)\n",
    "\n",
    "SourceMask=MakeCircularSource(N1,N2,SpatialStep,TxDiam)\n",
    "plt.imshow(SourceMask,cmap=plt.cm.gray);\n",
    "plt.title('Circular source map')\n",
    "\n",
    "SourceMap=np.zeros((N1,N2,N3),np.uint32)\n",
    "LocZ=int(np.round(TxPlaneLocation/SpatialStep))+PMLThickness\n",
    "SourceMap[:,:,LocZ]=SourceMask \n",
    "\n",
    "Ox=np.zeros((N1,N2,N3))\n",
    "Oy=np.zeros((N1,N2,N3))\n",
    "Oz=np.zeros((N1,N2,N3))\n",
    "Oz[SourceMap>0]=1 #only Z has a value of 1"
   ]
  },
  {
   "cell_type": "code",
   "execution_count": null,
   "metadata": {},
   "outputs": [],
   "source": [
    "\n",
    "\n",
    "LengthSource=4.0/Frequency #we will use 4 pulses\n",
    "TimeVectorSource=np.arange(0,LengthSource+TemporalStep,TemporalStep)\n",
    "\n",
    "PulseSource = np.sin(2*np.pi*Frequency*TimeVectorSource)\n",
    "plt.figure()\n",
    "plt.plot(TimeVectorSource*1e6,PulseSource)\n",
    "plt.title('4-pulse signal')\n",
    "\n",
    "#note we need expressively to arrange the data in a 2D array\n",
    "PulseSource=np.reshape(PulseSource,(1,len(TimeVectorSource))) "
   ]
  },
  {
   "cell_type": "code",
   "execution_count": null,
   "metadata": {},
   "outputs": [],
   "source": [
    "SensorMap=np.zeros((N1,N2,N3),np.uint32)\n",
    "\n",
    "SensorMap[PMLThickness:-PMLThickness,int(N2/2),PMLThickness:-PMLThickness]=1\n",
    "\n",
    "plt.figure()\n",
    "plt.imshow(SensorMap[:,int(N2/2),:].T,cmap=plt.cm.gray)\n",
    "plt.title('Sensor map location');"
   ]
  },
  {
   "cell_type": "code",
   "execution_count": null,
   "metadata": {},
   "outputs": [],
   "source": [
    "Sensor,LastMap,DictRMSValue,InputParam=PModel.StaggeredFDTD_3D_with_relaxation(\n",
    "                                                         MaterialMap,\n",
    "                                                         MaterialList,\n",
    "                                                         Frequency,\n",
    "                                                         SourceMap,\n",
    "                                                         PulseSource,\n",
    "                                                         SpatialStep,\n",
    "                                                         TimeSimulation,\n",
    "                                                         SensorMap,\n",
    "                                                         Ox=Ox*Amplitude,\n",
    "                                                         Oy=Oy*Amplitude,\n",
    "                                                         Oz=Oz*Amplitude,\n",
    "                                                         NDelta=PMLThickness,\n",
    "                                                         ReflectionLimit=ReflectionLimit,\n",
    "                                                         COMPUTING_BACKEND=COMPUTING_BACKEND,\n",
    "                                                         USE_SINGLE=True,\n",
    "                                                         SelRMSorPeak=2, #we select now only peak data\n",
    "                                                         DT=TemporalStep,\n",
    "                                                         QfactorCorrection=True,\n",
    "                                                         SelMapsRMSPeakList=['Pressure'],\n",
    "                                                         SelMapsSensorsList=['Vx','Vy','Vz','Pressure'],\n",
    "                                                         DefaultGPUDeviceName=DefaultGPUDeviceName,\n",
    "                                                         TypeSource=0)"
   ]
  },
  {
   "cell_type": "markdown",
   "metadata": {},
   "source": [
    "### Ploting data"
   ]
  },
  {
   "cell_type": "code",
   "execution_count": null,
   "metadata": {},
   "outputs": [],
   "source": [
    "RMSValue=DictRMSValue['Pressure']\n",
    "RMSValue[:,:,LocZ-2:LocZ+2]=0 # we hide the values too close to the source \n",
    "plt.figure(figsize=(12,6))\n",
    "plt.subplot(1,2,1)\n",
    "plt.imshow(RMSValue[:,int(N2/2),:].T/1e6,cmap=plt.cm.jet)\n",
    "plt.colorbar()\n",
    "plt.subplot(1,2,2)\n",
    "plt.imshow(RMSValue[:,:,125].T/1e6,cmap=plt.cm.jet)\n",
    "plt.colorbar()"
   ]
  },
  {
   "cell_type": "markdown",
   "metadata": {},
   "source": [
    "We calculate now peak and RMS values from"
   ]
  },
  {
   "cell_type": "code",
   "execution_count": null,
   "metadata": {},
   "outputs": [],
   "source": [
    "#To remain compatible with Matlab (whcih uses a Fortran convention for arrays, the index need to be rebuilt)\n",
    "MaxSensorPlane=np.zeros((N1,N3))\n",
    "RMSSensorPlane=np.zeros((N1,N3))\n",
    "\n",
    "ii,jj,kk=np.unravel_index(InputParam['IndexSensorMap']-1, SensorMap.shape, order='F')\n",
    "assert(np.all(jj==N2/2))\n",
    "\n",
    "for s in ['Vx','Vy','Vz','Pressure']:\n",
    "    #We use the IndexSensorMap array that was used in the low level function to \n",
    "    for n, i,j,k in zip(range(len(InputParam['IndexSensorMap'])),ii,jj,kk):\n",
    "        if i==int(N1/2) and k==int(N3/2):\n",
    "            CentralPoint=n #we save this to later plot the time signal at the center\n",
    "        MaxSensorPlane[i,k]=np.max(Sensor[s][n,:])\n",
    "        RMSSensorPlane[i,k]=np.sqrt(1./len(Sensor[s][n,:])*np.sum(Sensor[s][n,:]**2))\n",
    "    if 'Pressure' == s:\n",
    "        #convert to MPa\n",
    "        MaxSensorPlane/=1e6\n",
    "        RMSSensorPlane/=1e6\n",
    "    MaxSensorPlane[:,LocZ-2:LocZ+2]=0\n",
    "    RMSSensorPlane[:,LocZ-2:LocZ+2]=0\n",
    "\n",
    "    plt.figure(figsize=(14,8))\n",
    "    plt.subplot(1,3,1)\n",
    "    plt.imshow(MaxSensorPlane.T,cmap=plt.cm.jet)\n",
    "    plt.title('Peak value')\n",
    "    plt.colorbar()\n",
    "    plt.subplot(1,3,2)\n",
    "    plt.imshow(RMSSensorPlane.T,cmap=plt.cm.jet)\n",
    "    plt.title('RMS value')\n",
    "    plt.colorbar()\n",
    "    plt.subplot(1,3,3)\n",
    "    plt.plot(Sensor['time']*1e6,Sensor[s][CentralPoint])\n",
    "    plt.xlabel('time ($\\mu$s)')\n",
    "    plt.ylabel('$'+s[0]+'_'+s[1]+'$')\n",
    "    plt.title('Time signal at central point')\n",
    "    plt.suptitle('Plots for $'+s[0]+'_'+s[1]+'$')\n",
    "    plt.tight_layout()\n"
   ]
  },
  {
   "cell_type": "markdown",
   "metadata": {},
   "source": [
    "## 1.a - Changing particle direction in previous example - bad direction\n",
    "For purposes of illustration, we will change the particle displacmentdirection to $Y$. For many cases, this would be for the most an *erroneous* setting. We will repeat the simulation with all the other parameters as before."
   ]
  },
  {
   "cell_type": "code",
   "execution_count": null,
   "metadata": {},
   "outputs": [],
   "source": [
    "BadOx=np.zeros((N1,N2,N3))\n",
    "BadOy=np.zeros((N1,N2,N3))\n",
    "BadOz=np.zeros((N1,N2,N3))\n",
    "BadOy[SourceMap>0]=1 #only Y has a value of 1"
   ]
  },
  {
   "cell_type": "code",
   "execution_count": null,
   "metadata": {},
   "outputs": [],
   "source": [
    "Sensor,LastMap,DictRMSValue,InputParam=PModel.StaggeredFDTD_3D_with_relaxation(\n",
    "                                                         MaterialMap,\n",
    "                                                         MaterialList,\n",
    "                                                         Frequency,\n",
    "                                                         SourceMap,\n",
    "                                                         PulseSource,\n",
    "                                                         SpatialStep,\n",
    "                                                         TimeSimulation,\n",
    "                                                         SensorMap,\n",
    "                                                         Ox=BadOx*Amplitude, #We use now the wrong directivity\n",
    "                                                         Oy=BadOy*Amplitude, #We use now the wrong directivity\n",
    "                                                         Oz=BadOz*Amplitude, #We use now the wrong directivity\n",
    "                                                         NDelta=PMLThickness,\n",
    "                                                         ReflectionLimit=ReflectionLimit,\n",
    "                                                         COMPUTING_BACKEND=COMPUTING_BACKEND,\n",
    "                                                         USE_SINGLE=True,\n",
    "                                                         SelRMSorPeak=2, #we select now only peak data\n",
    "                                                         DT=TemporalStep,\n",
    "                                                         QfactorCorrection=True,\n",
    "                                                         SelMapsRMSPeakList=['Pressure'],\n",
    "                                                         SelMapsSensorsList=['Vx','Vy','Vz','Pressure'],\n",
    "                                                         DefaultGPUDeviceName=DefaultGPUDeviceName,\n",
    "                                                         TypeSource=0)"
   ]
  },
  {
   "cell_type": "markdown",
   "metadata": {},
   "source": [
    "### Ploting data"
   ]
  },
  {
   "cell_type": "code",
   "execution_count": null,
   "metadata": {},
   "outputs": [],
   "source": [
    "RMSValue=DictRMSValue['Pressure']/1e6\n",
    "RMSValue[:,:,LocZ-2:LocZ+2]=0 # we hide the values too close to the source \n",
    "plt.figure(figsize=(12,6))\n",
    "plt.subplot(1,2,1)\n",
    "plt.imshow(RMSValue[:,int(N2/2),:].T,cmap=plt.cm.jet)\n",
    "plt.colorbar()\n",
    "plt.subplot(1,2,2)\n",
    "plt.imshow(RMSValue[:,:,125].T,cmap=plt.cm.jet)\n",
    "plt.colorbar();"
   ]
  },
  {
   "cell_type": "markdown",
   "metadata": {},
   "source": [
    "We can see the pressure map got completely innacurate because the mistake in the directivity arrays. \n",
    "\n",
    "We calculate now peak and RMS values from sensor data"
   ]
  },
  {
   "cell_type": "code",
   "execution_count": null,
   "metadata": {},
   "outputs": [],
   "source": [
    "#To remain compatible with Matlab (whcih uses a Fortran convention for arrays, the index need to be rebuilt)\n",
    "MaxSensorPlane=np.zeros((N1,N3))\n",
    "RMSSensorPlane=np.zeros((N1,N3))\n",
    "\n",
    "ii,jj,kk=np.unravel_index(InputParam['IndexSensorMap']-1, SensorMap.shape, order='F')\n",
    "assert(np.all(jj==N2/2))\n",
    "\n",
    "for s in ['Vx','Vy','Vz','Pressure']:\n",
    "    #We use the IndexSensorMap array that was used in the low level function to \n",
    "    for n, i,j,k in zip(range(len(InputParam['IndexSensorMap'])),ii,jj,kk):\n",
    "        if i==int(N1/2) and k==int(N3/2):\n",
    "            CentralPoint=n #we save this to later plot the time signal at the center\n",
    "        MaxSensorPlane[i,k]=np.max(Sensor[s][n,:])\n",
    "        RMSSensorPlane[i,k]=np.sqrt(1./len(Sensor[s][n,:])*np.sum(Sensor[s][n,:]**2))\n",
    "    if 'Pressure' == s:\n",
    "        #convert to MPa\n",
    "        MaxSensorPlane/=1e6\n",
    "        RMSSensorPlane/=1e6\n",
    "    MaxSensorPlane[:,LocZ-2:LocZ+2]=0\n",
    "    RMSSensorPlane[:,LocZ-2:LocZ+2]=0\n",
    "\n",
    "    plt.figure(figsize=(14,8))\n",
    "    plt.subplot(1,3,1)\n",
    "    plt.imshow(MaxSensorPlane.T,cmap=plt.cm.jet)\n",
    "    plt.title('Peak value')\n",
    "    plt.colorbar()\n",
    "    plt.subplot(1,3,2)\n",
    "    plt.imshow(RMSSensorPlane.T,cmap=plt.cm.jet)\n",
    "    plt.title('RMS value')\n",
    "    plt.colorbar()\n",
    "    plt.subplot(1,3,3)\n",
    "    plt.plot(Sensor['time']*1e6,Sensor[s][CentralPoint])\n",
    "    plt.xlabel('time ($\\mu$s)')\n",
    "    plt.ylabel('$'+s[0]+'_'+s[1]+'$')\n",
    "    plt.title('Time signal at central point')\n",
    "    plt.suptitle('Plots for $'+s[0]+'_'+s[1]+'$')\n",
    "    plt.tight_layout()"
   ]
  },
  {
   "cell_type": "markdown",
   "metadata": {},
   "source": [
    "-----\n",
    "We can clearly see this field was not as intended to model an flat circular source\n",
    "\n",
    "# 2 - Rotated source\n",
    "We will now rotate the source 45 degrees. We will need to increase a bit the domain size."
   ]
  },
  {
   "cell_type": "code",
   "execution_count": null,
   "metadata": {},
   "outputs": [],
   "source": [
    "DimDomain =  np.array([0.08,0.05,0.08])  # in m, x,y,z\n",
    "\n",
    "TxDiam = 0.03/np.sqrt(2) # m, circular piston , as it will be rotated 45 degrees, we will make it a bit shorter to \n",
    "TxPlaneLocation = 0.01  # m , in XY plane at Z = 0.01 m\n",
    "\n",
    "PMLThickness = 12 # grid points for perect matching layer, HIGHLY RECOMMENDED DO NOT CHANGE THIS SIZE \n",
    "ReflectionLimit= 1.0000e-05 #reflection parameter for PML, IGHLY RECOMMENDED DO NOT CHANGE THIS VALUE\n",
    "\n",
    "N1=int(np.ceil(DimDomain[0]/SpatialStep)+2*PMLThickness)\n",
    "N2=int(np.ceil(DimDomain[1]/SpatialStep)+2*PMLThickness)\n",
    "N3=int(np.ceil(DimDomain[2]/SpatialStep)+2*PMLThickness)\n",
    "print('Domain size',N1,N2,N3)\n",
    "TimeSimulation=np.sqrt(DimDomain[0]**2+DimDomain[1]**2+DimDomain[2]**2)/MediumSOS #time to cross one corner to another\n",
    "TemporalStep=1e-7 # if this step is too coarse a warning will be generated (but simulation will continue,) \n",
    "\n",
    "MaterialMap=np.zeros((N1,N2,N3),np.uint32) # note the 32 bit size\n",
    "MaterialList=np.zeros((1,5)) # one material in this examples\n",
    "MaterialList[0,0]=MediumDensity # water density\n",
    "MaterialList[0,1]=MediumSOS # water SoS\n",
    "#all other parameters are set to 0 "
   ]
  },
  {
   "cell_type": "code",
   "execution_count": null,
   "metadata": {},
   "outputs": [],
   "source": [
    "SourceMask=MakeCircularSource(N1,N2,SpatialStep,TxDiam).T\n",
    "plt.figure(figsize=(8,5))\n",
    "plt.subplot(1,2,1)\n",
    "plt.imshow(SourceMask.T,cmap=plt.cm.gray);\n",
    "plt.title('Circular source map')\n",
    "\n",
    "SourceMap=np.zeros((N1,N2,N3),np.uint32) #note this time we will use float type, later we will convert it back to uint32\n",
    "LocZ=int(np.round(TxPlaneLocation/SpatialStep))+PMLThickness\n",
    "SourceMap[:,:,LocZ]=SourceMask \n",
    "\n",
    "plt.subplot(1,2,2)\n",
    "plt.imshow(SourceMap[:,int(N2/2),:].T,cmap=plt.cm.gray);\n",
    "plt.title('Central cut of 3D source map');"
   ]
  },
  {
   "cell_type": "markdown",
   "metadata": {},
   "source": [
    "We will rotate plane by plane using OpenCV"
   ]
  },
  {
   "cell_type": "code",
   "execution_count": null,
   "metadata": {},
   "outputs": [],
   "source": [
    "from scipy import ndimage\n",
    "for n in range(N2):\n",
    "    SourceMap[:,n,:]=np.roll(np.roll(ndimage.rotate(SourceMap[:,n,:],45,mode='nearest',reshape=False),-10,axis=1),10,axis=0)\n",
    "plt.imshow(SourceMap[:,int(N2/2),:].T,cmap=plt.cm.gray);"
   ]
  },
  {
   "cell_type": "markdown",
   "metadata": {},
   "source": [
    "Now we just create a vector for the particle displacement oriented in the right direction"
   ]
  },
  {
   "cell_type": "code",
   "execution_count": null,
   "metadata": {},
   "outputs": [],
   "source": [
    "Ox=np.zeros((N1,N2,N3))\n",
    "Oy=np.zeros((N1,N2,N3))\n",
    "Oz=np.zeros((N1,N2,N3))\n",
    "Vector45XZ=[-1,0,1]\n",
    "Vector45XZ/=np.linalg.norm(Vector45XZ)\n",
    "print('Vector45XZ',Vector45XZ)\n",
    "Ox[SourceMap>0]=Vector45XZ[0]\n",
    "Oy[SourceMap>0]=Vector45XZ[1]\n",
    "Oz[SourceMap>0]=Vector45XZ[2]"
   ]
  },
  {
   "cell_type": "code",
   "execution_count": null,
   "metadata": {},
   "outputs": [],
   "source": [
    "SensorMap=np.zeros((N1,N2,N3),np.uint32)\n",
    "\n",
    "SensorMap[PMLThickness:-PMLThickness,int(N2/2),PMLThickness:-PMLThickness]=1\n",
    "\n",
    "plt.figure()\n",
    "plt.imshow(SensorMap[:,int(N2/2),:].T,cmap=plt.cm.gray)\n",
    "plt.title('Sensor map location');"
   ]
  },
  {
   "cell_type": "code",
   "execution_count": null,
   "metadata": {},
   "outputs": [],
   "source": [
    "Sensor,LastMap,DictRMSValue,InputParam=PModel.StaggeredFDTD_3D_with_relaxation(\n",
    "                                                         MaterialMap,\n",
    "                                                         MaterialList,\n",
    "                                                         Frequency,\n",
    "                                                         SourceMap,\n",
    "                                                         PulseSource,\n",
    "                                                         SpatialStep,\n",
    "                                                         TimeSimulation,\n",
    "                                                         SensorMap,\n",
    "                                                         Ox=Ox*Amplitude, \n",
    "                                                         Oy=Oy*Amplitude, \n",
    "                                                         Oz=Oz*Amplitude, \n",
    "                                                         NDelta=PMLThickness,\n",
    "                                                         ReflectionLimit=ReflectionLimit,\n",
    "                                                         COMPUTING_BACKEND=COMPUTING_BACKEND,\n",
    "                                                         USE_SINGLE=True,\n",
    "                                                         SelRMSorPeak=2, #we select now only peak data\n",
    "                                                         DT=TemporalStep,\n",
    "                                                         QfactorCorrection=True,\n",
    "                                                         SelMapsRMSPeakList=['Pressure'],\n",
    "                                                         SelMapsSensorsList=['Vx','Vy','Vz','Pressure'],\n",
    "                                                         DefaultGPUDeviceName=DefaultGPUDeviceName,\n",
    "                                                         TypeSource=0)"
   ]
  },
  {
   "cell_type": "markdown",
   "metadata": {},
   "source": [
    "### Ploting data"
   ]
  },
  {
   "cell_type": "code",
   "execution_count": null,
   "metadata": {},
   "outputs": [],
   "source": [
    "RMSValue=DictRMSValue['Pressure']/1e6\n",
    "for n in range(-2,3):\n",
    "    for m in range(-2,3):\n",
    "        RMSValue[np.roll(np.roll(SourceMap>0,n,axis=0),m,axis=2)]=0. #we turn off the values close the source \n",
    "plt.figure(figsize=(12,6))\n",
    "plt.subplot(1,2,1)\n",
    "plt.imshow(RMSValue[:,int(N2/2),:].T,cmap=plt.cm.jet)\n",
    "plt.colorbar()\n",
    "plt.subplot(1,2,2)\n",
    "plt.imshow(RMSValue[:,:,125].T,cmap=plt.cm.jet)\n",
    "plt.colorbar();"
   ]
  },
  {
   "cell_type": "markdown",
   "metadata": {},
   "source": [
    "We can see a similar acoustic field as the first test above , just rotated 45 degrees.\n",
    "\n",
    "We can see now the individual vector components of the displacements"
   ]
  },
  {
   "cell_type": "code",
   "execution_count": null,
   "metadata": {},
   "outputs": [],
   "source": [
    "#To remain compatible with Matlab (whcih uses a Fortran convention for arrays, the index need to be rebuilt)\n",
    "MaxSensorPlane=np.zeros((N1,N3))\n",
    "RMSSensorPlane=np.zeros((N1,N3))\n",
    "\n",
    "ii,jj,kk=np.unravel_index(InputParam['IndexSensorMap']-1, SensorMap.shape, order='F')\n",
    "assert(np.all(jj==N2/2))\n",
    "\n",
    "for s in ['Vx','Vy','Vz','Pressure']:\n",
    "    #We use the IndexSensorMap array that was used in the low level function to \n",
    "    for n, i,j,k in zip(range(len(InputParam['IndexSensorMap'])),ii,jj,kk):\n",
    "        if i==int(N1/2) and k==int(N3/2):\n",
    "            CentralPoint=n #we save this to later plot the time signal at the center\n",
    "        MaxSensorPlane[i,k]=np.max(Sensor[s][n,:])\n",
    "        RMSSensorPlane[i,k]=np.sqrt(1./len(Sensor[s][n,:])*np.sum(Sensor[s][n,:]**2))\n",
    "    if 'Pressure' == s:\n",
    "        #convert to MPa\n",
    "        MaxSensorPlane/=1e6\n",
    "        RMSSensorPlane/=1e6\n",
    "    MaxSensorPlane[:,LocZ-2:LocZ+2]=0\n",
    "    RMSSensorPlane[:,LocZ-2:LocZ+2]=0\n",
    "\n",
    "    plt.figure(figsize=(14,8))\n",
    "    plt.subplot(1,3,1)\n",
    "    plt.imshow(MaxSensorPlane.T,cmap=plt.cm.jet)\n",
    "    plt.title('Peak value')\n",
    "    plt.colorbar()\n",
    "    plt.subplot(1,3,2)\n",
    "    plt.imshow(RMSSensorPlane.T,cmap=plt.cm.jet)\n",
    "    plt.title('RMS value')\n",
    "    plt.colorbar()\n",
    "    plt.subplot(1,3,3)\n",
    "    plt.plot(Sensor['time']*1e6,Sensor[s][CentralPoint])\n",
    "    plt.xlabel('time ($\\mu$s)')\n",
    "    plt.ylabel('$'+s[0]+'_'+s[1]+'$')\n",
    "    plt.title('Time signal at central point')\n",
    "    plt.suptitle('Plots for $'+s[0]+'_'+s[1]+'$')\n",
    "    plt.tight_layout()\n"
   ]
  },
  {
   "cell_type": "markdown",
   "metadata": {},
   "source": [
    "We can see now how the field is split mainly in X and Z components"
   ]
  },
  {
   "cell_type": "markdown",
   "metadata": {},
   "source": [
    "### 2.a - Assigning again  bad direction\n",
    "We repeat the exercise of assigning a wrong orientation to the particles"
   ]
  },
  {
   "cell_type": "code",
   "execution_count": null,
   "metadata": {},
   "outputs": [],
   "source": [
    "BadOx=np.zeros((N1,N2,N3))\n",
    "BadOy=np.zeros((N1,N2,N3))\n",
    "BadOz=np.zeros((N1,N2,N3))\n",
    "BadOy[SourceMap>0]=1 #only Y has a value of 1"
   ]
  },
  {
   "cell_type": "code",
   "execution_count": null,
   "metadata": {},
   "outputs": [],
   "source": [
    "SensorBad,LastMap,DictRMSValueBad,InputParam=PModel.StaggeredFDTD_3D_with_relaxation(\n",
    "                                                         MaterialMap,\n",
    "                                                         MaterialList,\n",
    "                                                         Frequency,\n",
    "                                                         SourceMap,\n",
    "                                                         PulseSource,\n",
    "                                                         SpatialStep,\n",
    "                                                         TimeSimulation,\n",
    "                                                         SensorMap,\n",
    "                                                         Ox=BadOx*Amplitude, #We use now the wrong directivity\n",
    "                                                         Oy=BadOy*Amplitude, #We use now the wrong directivity\n",
    "                                                         Oz=BadOz*Amplitude, #We use now the wrong directivity\n",
    "                                                         NDelta=PMLThickness,\n",
    "                                                         ReflectionLimit=ReflectionLimit,\n",
    "                                                         COMPUTING_BACKEND=COMPUTING_BACKEND,\n",
    "                                                         USE_SINGLE=True,\n",
    "                                                         DT=TemporalStep,\n",
    "                                                         QfactorCorrection=True,\n",
    "                                                         SelMapsRMSPeakList=['Pressure'],\n",
    "                                                         SelMapsSensorsList=['Vx','Vy','Vz','Pressure'],\n",
    "                                                         SensorSubSampling=2,\n",
    "                                                         DefaultGPUDeviceName=DefaultGPUDeviceName,\n",
    "                                                         TypeSource=0)"
   ]
  },
  {
   "cell_type": "code",
   "execution_count": null,
   "metadata": {},
   "outputs": [],
   "source": [
    "RMSValueBad=DictRMSValueBad['Pressure']\n",
    "for n in range(-2,3):\n",
    "    for m in range(-2,3):\n",
    "        RMSValueBad[np.roll(np.roll(SourceMap>0,n,axis=0),m,axis=2)]=0. #we turn off the values close the source \n",
    "plt.figure(figsize=(12,6))\n",
    "plt.subplot(1,2,1)\n",
    "plt.imshow(RMSValueBad[:,int(N2/2),:].T,cmap=plt.cm.jet)\n",
    "plt.colorbar()\n",
    "plt.subplot(1,2,2)\n",
    "plt.imshow(RMSValueBad[:,:,125].T,cmap=plt.cm.jet)\n",
    "plt.colorbar();"
   ]
  },
  {
   "cell_type": "markdown",
   "metadata": {},
   "source": [
    "We can see again that the wrong assigment to the directivity produces an inacurate field"
   ]
  },
  {
   "cell_type": "code",
   "execution_count": null,
   "metadata": {},
   "outputs": [],
   "source": [
    "#To remain compatible with Matlab (whcih uses a Fortran convention for arrays, the index need to be rebuilt)\n",
    "MaxSensorPlane=np.zeros((N1,N3))\n",
    "RMSSensorPlane=np.zeros((N1,N3))\n",
    "\n",
    "for s in ['Vx','Vy','Vz']:\n",
    "    #We use the IndexSensorMap array that was used in the low level function to \n",
    "    for n, index in enumerate( InputParam['IndexSensorMap']): \n",
    "        k=int(index/(N1*N2))\n",
    "        j=int(index%(N1*N2))\n",
    "        i=int(j%N1)\n",
    "        j=int(j/N1)\n",
    "        assert(j==N2/2) #all way up we specified the XZ plane at N2/2, this assert should pass\n",
    "        if i==int(N1/2) and k==int(N3/2):\n",
    "            CentralPoint=n #we save this to later plot the time signal at the center\n",
    "        MaxSensorPlane[i,k]=np.max(SensorBad[s][n,:])\n",
    "        RMSSensorPlane[i,k]=np.sqrt(1./len(SensorBad[s][n,:])*np.sum(SensorBad[s][n,:]**2))\n",
    "        \n",
    "    for n in range(-2,3):\n",
    "        for m in range(-2,3):\n",
    "            MaxSensorPlane[np.roll(np.roll(SourceMap[:,j,:]>0,n,axis=0),m,axis=1)]=0. \n",
    "            RMSSensorPlane[np.roll(np.roll(SourceMap[:,j,:]>0,n,axis=0),m,axis=1)]=0.\n",
    "\n",
    "    plt.figure(figsize=(14,6))\n",
    "    plt.subplot(1,3,1)\n",
    "    plt.imshow(MaxSensorPlane.T,cmap=plt.cm.jet)\n",
    "    plt.title('Peak value')\n",
    "    plt.colorbar()\n",
    "    plt.subplot(1,3,2)\n",
    "    plt.imshow(RMSSensorPlane.T,cmap=plt.cm.jet)\n",
    "    plt.title('RMS value')\n",
    "    plt.colorbar()\n",
    "    plt.subplot(1,3,3)\n",
    "    plt.plot(SensorBad['time']*1e6,SensorBad[s][CentralPoint])\n",
    "    plt.xlabel('time ($\\mu$s)')\n",
    "    plt.ylabel('$'+s[0]+'_'+s[1]+'$')\n",
    "    plt.title('Time signal at central point')\n",
    "    plt.suptitle('Plots for $'+s[0]+'_'+s[1]+'$')\n",
    "    plt.tight_layout()\n"
   ]
  },
  {
   "cell_type": "code",
   "execution_count": null,
   "metadata": {},
   "outputs": [],
   "source": []
  }
 ],
 "metadata": {
  "kernelspec": {
   "display_name": "Python 3 (ipykernel)",
   "language": "python",
   "name": "python3"
  },
  "language_info": {
   "codemirror_mode": {
    "name": "ipython",
    "version": 3
   },
   "file_extension": ".py",
   "mimetype": "text/x-python",
   "name": "python",
   "nbconvert_exporter": "python",
   "pygments_lexer": "ipython3",
   "version": "3.10.13"
  }
 },
 "nbformat": 4,
 "nbformat_minor": 4
}
